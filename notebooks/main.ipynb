{
 "cells": [
  {
   "cell_type": "markdown",
   "metadata": {},
   "source": [
    "# Project 3\n",
    "**Group 2** \n",
    "Ada Matilde Gige (adgi@itu.dk), Albert Schiffer (albsc@itu.dk), Andreas Frederik Flensted Olsen (frao@itu.dk), Timothy Beck (tibe@itu.dk) and Victor Popp Henriksen (vhen@itu.dk)\n",
    "\n",
    "Created: 2021-04-06\n",
    "\n",
    "Last modified: 2021-04-22\n",
    "\n",
    "Link to repo: https://github.com/adagige/fyp2021p03g02.git"
   ]
  },
  {
   "cell_type": "markdown",
   "metadata": {},
   "source": [
    "# Imports"
   ]
  },
  {
   "cell_type": "code",
<<<<<<< HEAD
   "execution_count": null,
=======
   "execution_count": 1,
>>>>>>> 15c92c9e2cc58dbf91ee322cd08dbf81a8c4368b
   "metadata": {},
   "outputs": [],
   "source": [
    "import matplotlib.pyplot as plt\n",
    "import numpy as np\n",
    "import pandas as pd\n",
    "import math\n",
    "import seaborn as sns\n",
    "\n",
    "from skimage.segmentation import felzenszwalb, slic, quickshift, watershed\n",
    "from skimage.segmentation import mark_boundaries\n",
    "from skimage import transform\n",
    "from PIL import Image \n",
    "\n",
    "from sklearn import preprocessing\n",
    "from sklearn.model_selection import train_test_split\n",
    "from sklearn.feature_selection import mutual_info_classif, SelectKBest\n",
    "from sklearn.neighbors import KNeighborsClassifier\n",
    "from sklearn.tree import DecisionTreeClassifier\n",
    "from sklearn import svm\n",
    "from sklearn.metrics import classification_report\n",
    "from sklearn.model_selection import cross_val_score\n",
    "from sklearn.model_selection import cross_val_predict\n",
    "from sklearn import metrics\n",
    "from sklearn.metrics import confusion_matrix\n",
    "\n",
    "\n",
    "import glob #For finding specific file types\n",
    "\n",
    "%run -i ../fyp2021p3_group00_functions.py"
   ]
  },
  {
   "cell_type": "markdown",
   "metadata": {},
   "source": [
    "# Running or watching code?\n",
    "\n",
    "### If you are interested in only watching the code set the constant run to False, if you want to run the code set the constant to True\n",
    "\n",
    "When watching the code some files will be loaded, but it is feature files which are already made by the code in the Notebook and then saved"
   ]
  },
  {
   "cell_type": "code",
   "execution_count": 2,
   "metadata": {},
   "outputs": [],
   "source": [
    "run = False"
   ]
  },
  {
   "cell_type": "markdown",
   "metadata": {},
   "source": [
    "# Loading raw datafiles\n",
    "Inspiration from: https://stackoverflow.com/questions/33369832/read-multiple-images-on-a-folder-in-opencv-python/33371454"
   ]
  },
  {
   "cell_type": "code",
<<<<<<< HEAD
   "execution_count": null,
=======
   "execution_count": 3,
>>>>>>> 15c92c9e2cc58dbf91ee322cd08dbf81a8c4368b
   "metadata": {},
   "outputs": [],
   "source": [
    "\n",
    "#load all images of type .jpg\n",
    "im_file_list2 = glob.glob(\"../data/example_image/*.jpg\")\n",
    "#load all maps of type .png\n",
    "map_file_list2 = glob.glob(\"../data/example_segmentation/*.png\")\n",
    "\n",
    "#load external images \n",
    "im_file_liste = glob.glob(\"../data/external_data/resized_images/*.jpg\")\n",
    "#Load external maps\n",
    "map_file_liste = glob.glob(\"../data/external_data/resized_masks/*.png\")\n",
    "\n",
    "#im_files = sorted(im_file_list2, key = uniq)\n",
    "im_files = sorted(im_file_list2)\n",
    "len(im_files)\n",
    "\n",
    "#map_files = sorted(map_file_list2, key = uniq)\n",
    "map_files = sorted(map_file_list2)\n",
    "len(map_files)\n",
    "\n",
    "#im_files = sorted(im_file_list2, key = uniq)\n",
    "im_filese = sorted(im_file_liste)\n",
    "len(im_filese)\n",
    "\n",
    "#map_files = sorted(map_file_list2, key = uniq)\n",
    "map_filese = sorted(map_file_liste)\n",
    "len(map_filese)    \n",
    "\n",
    "\n",
    "\n",
    "# Loading the true file in\n",
    "true1 = pd.read_csv('../data/example_ground_truth.csv')\n",
    "true2 = pd.read_csv('../data/external_data/resized_ISIC-2017_Training_Part3_GroundTruth.csv')\n",
    "\n",
    "true = pd.concat([true1, true2], ignore_index=True)\n",
    "# It is already sorted why it is not sorted as the others\n"
   ]
  },
  {
   "cell_type": "markdown",
   "metadata": {},
   "source": [
    "## Loading the images into a list and making an ID dictionary"
   ]
  },
  {
   "cell_type": "code",
   "execution_count": null,
   "metadata": {},
   "outputs": [],
   "source": [
    "images = []\n",
    "for file in im_files:\n",
    "    im = Image.open(file)\n",
    "    im = im.resize((800,500), resample=1) \n",
    "    images.append(im)\n",
    "\n",
    "for file in im_filese:\n",
    "    im = Image.open(file)\n",
    "    images.append(im)\n",
    "\n",
    "maps = []\n",
    "\n",
    "for file in map_files:\n",
    "    ma = Image.open(file)\n",
    "    ma = ma.resize((800,500), resample=1)\n",
    "    maps.append(ma)\n",
    "\n",
    "for file in map_filese:\n",
    "    ma = Image.open(file)\n",
    "    maps.append(ma)\n",
    "\n",
    "\n",
    "# Making a dictionary to find the id from the index\n",
    "pic_id = dict()\n",
    "\n",
    "for i in range(150):\n",
    "    pic_id[i] = true['image_id'][i]"
   ]
  },
  {
   "cell_type": "markdown",
   "metadata": {},
   "source": [
    "# Features\n",
    "We used the ABC features to classify the features of melanoma and not melanoma marks."
   ]
  },
  {
   "cell_type": "markdown",
   "metadata": {},
   "source": [
    "## Asymetry\n",
    "The asymetry is meassured by finding the center of the image, measuring the distance to the border on each side and comparing the two, the difference was squared to prevent negative number and added to the constant `difference`. Then the image was rotated 5 degrees and the measurement was done once again, the image was rotated 36 times. After the rotation the difference was divided by the area of the lesion to normalize the meassurement. "
   ]
  },
  {
   "cell_type": "code",
   "execution_count": null,
   "metadata": {},
   "outputs": [],
   "source": [
    "#A function that finds the center of a picture and meassures the asymmetri\n",
    "\n",
    "def asymmetry(mapID):\n",
    "    mask = np.array(maps[mapID])\n",
    "    \n",
    "    borders = np.where(mask == 1) # This will return 2 arrays with the index where the pixels are ones\n",
    "    up, down, left, right = max(borders[0]), min(borders[0]), min(borders[1]), max(borders[1])\n",
    "    center = ((left + right)//2, (up+down) //2) # Tuple with the coordinates for the center of the lesion\n",
    "    \n",
    "    difference = 0\n",
    "    \n",
    "    for i in range(36):\n",
    "        borders = np.where(mask == 1) # This will return 2 arrays with the index where the pixels are ones\n",
    "        left, right = min(borders[1]), max(borders[1])\n",
    "        \n",
    "        radiusdiff = (center[0]-left) - (right-center[0])\n",
    "        difference += radiusdiff**2\n",
    "        mask = transform.rotate(mask, 5, center = center)\n",
    "    return difference/area[mapID]\n",
    "    "
   ]
  },
  {
   "cell_type": "markdown",
   "metadata": {},
   "source": [
    "We ran all images through the function via the lines of code below and saved the output to a file to save time."
   ]
  },
  {
   "cell_type": "code",
   "execution_count": null,
   "metadata": {},
   "outputs": [],
   "source": [
    "# Making a list with all asymmetry values in it and then savin it.\n",
    "if run:\n",
    "    asymmetrylist = []\n",
    "\n",
    "    for i in range(300):\n",
    "        asymmetrylist.append(asymmetry(i))\n",
    "\n",
    "    np.savetxt(\"../data/features/asymmetry36.csv\", asymmetrylist, delimiter=\",\")"
   ]
  },
  {
   "cell_type": "markdown",
   "metadata": {},
   "source": [
    "### Showing how the asymetry function works (simplified)"
   ]
  },
  {
   "cell_type": "code",
   "execution_count": null,
   "metadata": {},
   "outputs": [],
   "source": [
    "fig, axes = plt.subplots(nrows=1, ncols=4, figsize=(20, 10))\n",
    "\n",
    "mask = np.array(maps[4])\n",
    "\n",
    "borders = np.where(mask == 1) # This will return 2 arrays with the index where the pixels are ones\n",
    "up, down, left, right = max(borders[0]), min(borders[0]), min(borders[1]), max(borders[1])\n",
    "center = ((left + right)//2, (up+down) //2) # Tuple with the coordinates for the center of the lesion\n",
    "\n",
    "difference = 0\n",
    "\n",
    "for i in range(4):\n",
    "    borders = np.where(mask == 1) # This will return 2 arrays with the index where the pixels are ones\n",
    "    left, right = min(borders[1]), max(borders[1])\n",
    "   \n",
    "    \n",
    "    axes[i].imshow(mask, cmap = 'gray')\n",
    "    axes[i].scatter(center[0], center[1], s=25, c='red', marker='o')\n",
    "   # axes[i].show()\n",
    "    \n",
    "    radiusdiff = (center[0]-left) - (right-center[0])\n",
    "    difference += radiusdiff**2\n",
    "    mask = transform.rotate(mask, 45, center = center)\n",
    "\n",
    "fig.tight_layout()"
   ]
  },
  {
   "cell_type": "markdown",
   "metadata": {},
   "source": [
    "## Border"
   ]
  },
  {
   "cell_type": "markdown",
   "metadata": {},
   "source": [
    "To measure the regularity of the border the ration perimeter divided by area was used. The area and perimeter ratio has shown great results in other studies, Fikrle and Pizinger 2007. \n",
    "https://groups.inf.ed.ac.uk/vision/MCDONAGH/related%20work/literature/digital%20computer%20analysis%20of%20dermatoscopical%20images%20-%20Fikrle%20Pizinger%20-%20March%202006.pdf"
   ]
  },
  {
   "cell_type": "markdown",
   "metadata": {},
   "source": [
    "### Area and perimeter\n",
    "To find the area and perimeter we used the function from Veronicka with the morphology.disk() set to 5.\n",
    "We tried different values of morphology.disk() but 5 was found to the the best meassurement for the feature."
   ]
  },
  {
   "cell_type": "code",
   "execution_count": null,
   "metadata": {},
   "outputs": [],
   "source": [
    "if run: \n",
    "    #Loading the maps in as plt files to be used to find the area an perimiter.\n",
    "\n",
    "    #load all maps of type .png\n",
    "    map_file_area = glob.glob(\"../data/example_segmentation_resize/*.png\")\n",
    "\n",
    "    #Load external maps\n",
    "    map_filee_area = glob.glob(\"../data/external_data/resized_masks/*.png\")\n",
    "\n",
    "\n",
    "    map_files_area = sorted(map_file_area)\n",
    "\n",
    "    map_filese_area = sorted(map_filee_area)   \n",
    "\n",
    "\n",
    "    mapsarea = []\n",
    "\n",
    "    for file in map_files_area:\n",
    "        im = plt.imread(file)\n",
    "        mapsarea.append(im)\n",
    "\n",
    "    for file in map_filese_area:\n",
    "        im = plt.imread(file)\n",
    "        mapsarea.append(im)\n"
   ]
  },
  {
   "cell_type": "code",
   "execution_count": null,
   "metadata": {},
   "outputs": [],
   "source": [
    "if run: \n",
    "    # Finding the area and perimeter of all images. \n",
    "    '''With the use of morphology.disk(5)'''\n",
    "\n",
    "\n",
    "    areas = []\n",
    "    peris = []\n",
    "    for i in mapsarea:\n",
    "        area, perimiter = measure_area_perimeter(i)\n",
    "        areas.append(area)\n",
    "        peris.append(perimiter)\n",
    "\n",
    "    # Adding them to a file, so they don't have to be calculated each time\n",
    "\n",
    "    #np.savetxt(\"../data/features/perimeter5.csv\", peris, delimiter=\",\")\n",
    "    #np.savetxt(\"../data/features/area5.csv\", areas, delimiter=\",\")"
   ]
  },
  {
   "cell_type": "markdown",
   "metadata": {},
   "source": [
    "#### Area and perimeter scatterplot"
   ]
  },
  {
   "cell_type": "code",
   "execution_count": null,
   "metadata": {},
   "outputs": [],
   "source": [
    "if not run: \n",
    "    area = np.genfromtxt('../data/features/area5.csv', delimiter=',')\n",
    "    perimeter = np.genfromtxt('../data/features/perimeter5.csv', delimiter=',')"
   ]
  },
  {
   "cell_type": "code",
   "execution_count": null,
   "metadata": {},
   "outputs": [],
   "source": [
    "def scatterplot(area, perimeter):\n",
    "    # Define the size of the figure\n",
    "    fig = plt.figure(figsize=(4, 3))\n",
    "    # Set axes, that you want to work with:\n",
    "    axes = fig.add_axes([0, 0, 1, 1]) # left, bottom, width, height (range 0 to 1)\n",
    "    # actually plot the data:\n",
    "    axes.scatter(area, perimeter, label = 'Data', edgecolors='white')\n",
    "    axes.set_title('Area and perimeter')\n",
    "    axes.set_xlabel('Area')\n",
    "    axes.set_ylabel('Perimeter')\n",
    "    #axes.legend(loc='upper left'); axes.set_xlabel(data); axes.set_ylabel(data); axes.set_title('Scatter plot');\n",
    "    return None"
   ]
  },
  {
   "cell_type": "code",
   "execution_count": null,
   "metadata": {},
   "outputs": [],
   "source": [
    "scatterplot(area, perimeter)"
   ]
  },
  {
   "cell_type": "markdown",
   "metadata": {},
   "source": [
    "### Perimeter divided by area"
   ]
  },
  {
   "cell_type": "code",
   "execution_count": null,
   "metadata": {},
   "outputs": [],
   "source": [
    "if run:\n",
    "    #making the perimiter divided by area feature\n",
    "    pa = []\n",
    "    for i in range(300): \n",
    "        pa.append(perimeter5[i]/areas5[i])\n",
    "\n",
    "    # Making a file with the perimeter divided by area feature\n",
    "    #np.savetxt(\"../data/features/perimeterdivarea5.csv\", pa, delimiter=\",\")"
   ]
  },
  {
   "cell_type": "code",
   "execution_count": null,
   "metadata": {},
   "outputs": [],
   "source": [
    "if not run: \n",
    "    pa = np.genfromtxt('../data/features/perimeterdivarea5.csv', delimiter = ',')"
   ]
  },
  {
   "cell_type": "markdown",
   "metadata": {},
   "source": [
    "#### Histogram with the perimeter/area"
   ]
  },
  {
   "cell_type": "code",
   "execution_count": null,
   "metadata": {},
   "outputs": [],
   "source": [
    "sns.histplot(pa, bins = 20)"
   ]
  },
  {
   "cell_type": "markdown",
   "metadata": {},
   "source": [
    "## Color segmentation"
   ]
  },
  {
   "cell_type": "code",
   "execution_count": null,
   "metadata": {},
   "outputs": [],
   "source": [
    "def color_segmentation(list_of_images, list_of_corresponding_masks): #lists with resized and resampled images\n",
    "    '''this function takes the 2 lists as input, the one list with images, and the other with its corresponding masks (both resized)\n",
    "    For each masked image, it performs a felzensvalb algorithim, to compute the segmentation of the mole. The segmentation is \n",
    "    normalized (divided by the totalt number of pixels in the mole), and afterwards put into the dataframe as a feature.\n",
    "    '''\n",
    "    segmentation = []\n",
    "    \n",
    "    for i in range(len(list_of_images)): #the file list\n",
    "        img1 = list_of_images[i]\n",
    "\n",
    "        img2 = list_of_corresponding_masks[i]\n",
    "\n",
    "        img2.paste(img1, (0,0), mask = img2) \n",
    "\n",
    "        segments_fz = felzenszwalb(img2, scale=8, sigma=1, min_size=10)\n",
    "\n",
    "        number_of_segments = len(np.unique(segments_fz))\n",
    "\n",
    "        normalized_segmentation = round(number_of_segments/(np.sum(list_of_corresponding_masks[i])),7)\n",
    "\n",
    "        segmentation.append(normalized_segmentation)\n",
    "    \n",
    "    return segmentation"
   ]
  },
  {
   "cell_type": "code",
   "execution_count": null,
   "metadata": {},
   "outputs": [],
   "source": [
    "if run: \n",
    "    #call the function\n",
    "    felz = color_segmentation(images, maps) \n",
    "\n",
    "    ''' Exported as a csv file to avoid future run time\n",
    "    '''\n",
    "\n",
    "    #np.savetxt(\"../data/features/segmentation.csv\", felz, delimiter=\",\")"
   ]
  },
  {
   "cell_type": "code",
   "execution_count": null,
   "metadata": {},
   "outputs": [],
   "source": [
    "'''To see what is going on inside the loop, a cutout of only 1 picture is made in this block of code\n",
    "'''\n",
    "if not run: \n",
    "    img1 = images[0].copy()\n",
    "    img2 = maps[0].copy()\n",
    "    img2.paste(img1, (0,0), mask = img2) \n",
    "    segments_fz = felzenszwalb(img2, scale=8, sigma=1, min_size=10)\n",
    "    number_of_segments = len(np.unique(segments_fz))\n",
    "    normalized_segmentation = round(number_of_segments/(np.sum(maps[0])),7)\n",
    "    plt.imshow(mark_boundaries(img2, segments_fz))\n",
    "    print('pixels in mask divided by area of mask = ', normalized_segmentation)\n",
    "    #segmenation[images[i]] = normalized_segmentation"
   ]
  },
  {
   "cell_type": "markdown",
   "metadata": {},
   "source": [
    "# Testing features\n",
    "All test images were drawn by hand in Paint in black and white. Afterwards they were converted to Luminance pictures. The features were tested on the converted pictures, to see how the features behaved."
   ]
  },
  {
   "cell_type": "code",
   "execution_count": null,
   "metadata": {},
   "outputs": [],
   "source": [
    "def asym(mask, area):\n",
    "    '''Function to find the asymmetry of test features, the only difference from the original asymmetry is that the area is a \n",
    "    parameter'''\n",
    "\n",
    "    borders = np.where(mask == 1) # This will return 2 arrays with the index where the pixels are ones\n",
    "    up, down, left, right = max(borders[0]), min(borders[0]), min(borders[1]), max(borders[1])\n",
    "    center = ((left + right)//2, (up+down) //2) # Tuple with the coordinates for the center of the lesion\n",
    "    \n",
    "    difference = 0\n",
    "    \n",
    "    for i in range(36):\n",
    "        borders = np.where(mask == 1) # This will return 2 arrays with the index where the pixels are ones\n",
    "        left, right = min(borders[1]), max(borders[1])\n",
    "        \n",
    "        \n",
    "        radiusdiff = (center[0]-left) - (right-center[0])\n",
    "        difference += radiusdiff**2\n",
    "        mask = transform.rotate(mask, 5, center = center)\n",
    "        \n",
    "    return difference/area"
   ]
  },
  {
   "cell_type": "code",
   "execution_count": null,
   "metadata": {},
   "outputs": [],
   "source": [
    "if not run: \n",
    "    circle = plt.imread('../data/test_pictures/circleL.png')\n",
    "    irregular = plt.imread('../data/test_pictures/irregularL.png')\n",
    "    irregular2 = plt.imread('../data/test_pictures/irregular2L.png')\n",
    "    irregular3 = plt.imread('../data/test_pictures/irregular3L.png')\n",
    "\n",
    "\n",
    "    fig, axes = plt.subplots(nrows=2, ncols=2, figsize=(20, 10))\n",
    "\n",
    "    axes[0][0].imshow(circle, cmap = 'gray')\n",
    "    axes[0][0].set_title(label = 'Circle')\n",
    "    axes[0][1].imshow(irregular, cmap = 'gray')\n",
    "    axes[0][1].set_title('Irregular 1')\n",
    "    axes[1][0].imshow(irregular2, cmap = 'gray')\n",
    "    axes[1][0].set_title('Irregular 2')\n",
    "    axes[1][1].imshow(irregular3, cmap = 'gray')\n",
    "    axes[1][1].set_title('Irregular 3')\n",
    "\n",
    "\n",
    "    area1, perimeter1 = measure_area_perimeter(circle)\n",
    "    area2, perimeter2 = measure_area_perimeter(irregular)\n",
    "    area3, perimeter3 = measure_area_perimeter(irregular2)\n",
    "    area4, perimeter4 = measure_area_perimeter(irregular3)\n",
    "\n",
    "\n",
    "    print('The perimeter/area is:','circle', round(perimeter1/area1, 3), 'irregular', round(perimeter2/area2, 3), 'irregular2', \n",
    "          round(perimeter3/area3,3), 'irregular3', round(perimeter4/area4, 3))\n",
    "\n",
    "\n",
    "\n",
    "    asym1 = asym(circle, area1)\n",
    "    asym2 = asym(irregular, area2)\n",
    "    asym3 = asym(irregular2, area3)\n",
    "    asym4 = asym(irregular3, area4)\n",
    "\n",
    "    print('The asymetry is:','circle', round(asym1, 3), 'irregular', round(asym2,3), 'irregular2', round(asym3,3),\n",
    "          'irregular3', round(asym4,3))"
   ]
  },
  {
   "cell_type": "markdown",
   "metadata": {},
   "source": [
    "# All features in one dataframe with true values\n",
    "All the features are gathered in one dataframe. To save time each feature is loaded from their respective file."
   ]
  },
  {
   "cell_type": "code",
<<<<<<< HEAD
   "execution_count": null,
=======
   "execution_count": 4,
>>>>>>> 15c92c9e2cc58dbf91ee322cd08dbf81a8c4368b
   "metadata": {},
   "outputs": [],
   "source": [
    "areas = pd.read_csv(\"../data/features/area5.csv\", names = ['area'])\n",
    "perimeter = pd.read_csv(\"../data/features/perimeter5.csv\", names = ['perimeter'])\n",
    "pa = pd.read_csv('../data/features/perimeterdivarea5.csv', names = ['peri/area'])\n",
    "asymmetry = pd.read_csv(\"../data/features/asymmetry36.csv\", names = ['asymmetry'])\n",
    "segmentation = pd.read_csv(\"../data/features/segmentation.csv\", names = ['color segmentation/area'])\n",
    "\n",
    "true['asymmetry'] = asymmetry\n",
    "true['area'] = areas\n",
    "true['perimeter'] = perimeter\n",
    "true['peri/area'] = pa\n",
    "true['color segmentation/area'] = segmentation\n",
    "\n",
    "allfeatures = true"
   ]
  },
  {
   "cell_type": "code",
   "execution_count": 6,
   "metadata": {},
   "outputs": [
    {
     "name": "stderr",
     "output_type": "stream",
     "text": [
      "C:\\Users\\adagi\\anaconda3\\lib\\site-packages\\seaborn\\axisgrid.py:1969: UserWarning: The `size` parameter has been renamed to `height`; please update your code.\n",
      "  warnings.warn(msg, UserWarning)\n"
     ]
    },
    {
     "data": {
      "text/plain": [
       "<seaborn.axisgrid.PairGrid at 0x22159595bb0>"
      ]
     },
     "execution_count": 6,
     "metadata": {},
     "output_type": "execute_result"
    },
    {
     "data": {
      "image/png": "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\n",
      "text/plain": [
       "<Figure size 708.875x648 with 12 Axes>"
      ]
     },
     "metadata": {
      "needs_background": "light"
     },
     "output_type": "display_data"
    }
   ],
   "source": [
    "toplot = allfeatures[['asymmetry', 'peri/area','color segmentation/area' ,'melanoma']]\n",
    "\n",
    "sns.pairplot(toplot, hue=\"melanoma\", size=3,diag_kind=\"hist\")"
   ]
  },
  {
   "cell_type": "markdown",
   "metadata": {},
   "source": [
    "## Scaling the data\n",
    "We decided to scale the data by using the StadardScaler() from sklearn but only on a datafram containing the features."
   ]
  },
  {
   "cell_type": "code",
   "execution_count": null,
   "metadata": {},
   "outputs": [],
   "source": [
    "onlyfeatures = allfeatures[[ 'asymmetry', 'peri/area', 'color segmentation/area']]"
   ]
  },
  {
   "cell_type": "code",
   "execution_count": null,
   "metadata": {},
   "outputs": [],
   "source": [
    "# Scaling the features\n",
    "\n",
    "#Fit scaler on our data\n",
    "scaler = preprocessing.StandardScaler().fit(onlyfeatures)\n",
    "\n",
    "#Apply to data itself\n",
    "normfeatures = scaler.transform(onlyfeatures)\n",
    "\n",
    "print(normfeatures.mean()) #small number close to 0, round of error\n",
    "print(normfeatures.var())  #equal to 1 \n",
    "sns.boxplot(data=normfeatures, width=0.5,fliersize=5) #we see both negative and positive values, since the mean is 0"
   ]
  },
  {
   "cell_type": "markdown",
   "metadata": {},
   "source": [
    "## Plotting the features\n",
    "The features are plotted with the melanoma/ not melanoma hue. "
   ]
  },
  {
   "cell_type": "code",
   "execution_count": null,
   "metadata": {},
   "outputs": [],
   "source": [
    "normfeatures = pd.DataFrame(normfeatures, columns = [ 'asymmetry', 'peri/area', 'color segmentation/area'])\n",
    "\n",
    "# Look at values per class\n",
    "normfeatures['melanoma'] = allfeatures['melanoma']\n",
    "\n",
    "\n",
    "p = sns.pairplot(normfeatures, hue=\"melanoma\", height=5,diag_kind=\"hist\", vars = ['asymmetry', 'peri/area', 'color segmentation/area'])\n",
    "\n",
    "p.savefig(\"output.png\")"
   ]
  },
  {
   "cell_type": "markdown",
   "metadata": {},
   "source": [
    "# Ordinary classification with k- nearest neighbor, Support vector mahine and decision tree classifier"
   ]
  },
  {
   "cell_type": "markdown",
   "metadata": {},
   "source": [
    "### Splitting the data"
   ]
  },
  {
   "cell_type": "code",
   "execution_count": null,
   "metadata": {},
   "outputs": [],
   "source": [
    "# Some noisy data not correlated\n",
    "noise = np.random.RandomState(42).uniform(0, 0.1, size=(normfeatures.shape[0], 20))\n",
    "\n",
    "# Add the noisy data to the informative features\n",
    "X = np.hstack((normfeatures[['asymmetry', 'peri/area',  'color segmentation/area' ]], noise))\n",
    "y = normfeatures['melanoma']\n",
    "\n",
    "# Split dataset to select feature and evaluate the classifier \n",
    "# Splitting the data in training 70 % (240/300) validation 10% (30) and test 20% (60) \n",
    "X_dev, X_test, y_dev, y_test = train_test_split(\n",
    "        X, y, stratify=y, random_state=0, test_size = 0.2)\n",
    "\n",
    "X_train, X_val, y_train, y_val = train_test_split(\n",
    "        X_dev, y_dev, stratify=y_dev, test_size = 0.125, random_state = 0)"
   ]
  },
  {
   "cell_type": "code",
   "execution_count": null,
   "metadata": {},
   "outputs": [],
   "source": [
    "# Univariate feature selection with mutual information for feature scoring --> #mutual_info_classif\n",
    "selector = SelectKBest(mutual_info_classif, k=2) #returns an array of scores and of pvalues.\n",
    "selector.fit(X_train, y_train)\n",
    "\n",
    "scores = selector.scores_ #call the array of scores\n",
    "\n",
    "# Select features that had good scores on training set\n",
    "X_train1 = X_train[:, [0,3]]\n",
    "X_train2 = selector.transform(X_train)"
   ]
  },
  {
   "cell_type": "markdown",
   "metadata": {},
   "source": [
    "### Model training"
   ]
  },
  {
   "cell_type": "code",
   "execution_count": null,
   "metadata": {},
   "outputs": [],
   "source": [
    "# Train a classifier\n",
    "#KNearest Neighbours\n",
    "knn1 = KNeighborsClassifier(n_neighbors=10) # other hyperparameters possible, 10 as nearest neighbors seems like the optimal number\n",
    "knn1trained = knn1.fit(X_train2, y_train)\n",
    "#KNearest Neighbours other parameter\n",
    "knn2 = KNeighborsClassifier(n_neighbors=2)\n",
    "knn2trained = knn2.fit(X_train2, y_train)\n",
    "#Decisiontree\n",
    "tree1 = DecisionTreeClassifier(max_depth=2) # various hyperparameters, max depth = 2 from 1. semester\n",
    "tree1trained = tree1.fit(X_train2, y_train)\n",
    "#Support vector machine\n",
    "svm1 = svm.SVC(gamma='scale')\n",
    "svmtrained = svm1.fit(X_train2, y_train)"
   ]
  },
  {
   "cell_type": "code",
   "execution_count": null,
   "metadata": {},
   "outputs": [],
   "source": [
    "#Select the same features as before\n",
    "X_val1 = X_val[:, [0,3]]\n",
    "X_val2 = selector.transform(X_val) # .transform --> reduces the array of all scores to only the best scores\n",
    "\n",
    "y_val_knn1 = knn1trained.predict(X_val2)\n",
    "y_val_knn2 = knn2trained.predict(X_val2) \n",
    "y_val_svm1 = svmtrained.predict(X_val2)\n",
    "y_val_tree = tree1trained.predict(X_val2)\n",
    "\n",
    "# Simple accuracy\n",
    "print((np.sum(y_val_knn1 == y_val) / np.size(y_val) * 100), 'KNN with k=10')\n",
    "print((np.sum(y_val_knn2 == y_val) / np.size(y_val) * 100), 'KNN with k=2')\n",
    "print((np.sum(y_val_tree == y_val) / np.size(y_val) * 100), 'Decisiontree with max depth of 2')\n",
    "print((np.sum(y_val_svm1 == y_val) / np.size(y_val) * 100), 'Support vector machine, with rbf kernel and gamma set to (1/#features*Variance)')\n"
   ]
  },
  {
   "cell_type": "code",
   "execution_count": null,
   "metadata": {},
   "outputs": [],
   "source": [
    "from sklearn.metrics import roc_auc_score\n",
    "\n",
    "auc1 = roc_auc_score(y_val, y_val_knn1)\n",
    "auc2 = roc_auc_score(y_val, y_val_knn2)\n",
    "auc3 = roc_auc_score(y_val, y_val_svm1)\n",
    "auc4 =roc_auc_score(y_val, y_val_tree)\n",
    "\n",
    "print(auc1, 'KNN with k=10')\n",
    "print(auc2,'KNN with k=2')\n",
    "print(auc3,'Decisiontree with max depth of 2')\n",
    "print(auc4, 'Support vector machine, with rbf kernel and gamma set to (1/#features*Variance)')\n"
   ]
  },
  {
   "cell_type": "markdown",
   "metadata": {},
   "source": [
    "The classifiers are not that great, why we look at cross validation instead, because of the rather small dataset."
   ]
  },
  {
   "cell_type": "markdown",
   "metadata": {},
   "source": [
    "# Cross validation with k- nearest neighbor, Support vector mahine and decision tree classifier"
   ]
  },
  {
   "cell_type": "markdown",
   "metadata": {},
   "source": [
    "### Splitting the data"
   ]
  },
  {
   "cell_type": "code",
   "execution_count": null,
   "metadata": {},
   "outputs": [],
   "source": [
    "## Splitting the data in training 80 % (225/300) and test 25% (75)\n",
    "\n",
    "Xc = normfeatures[['asymmetry', 'peri/area',  'color segmentation/area' ]]\n",
    "\n",
    "yc = normfeatures['melanoma']\n",
    "\n",
    "# Split dataset to select feature and evaluate the classifier\n",
    "X_trainc, X_testc, y_trainc, y_testc = train_test_split(\n",
    "        Xc, yc, stratify=y, random_state=0, test_size = 0.2)\n",
    "\n",
    "\n",
    "X_trainc.shape, X_testc.shape"
   ]
  },
  {
   "cell_type": "markdown",
   "metadata": {},
   "source": [
    "## Classifying with k- nearest neighbor\n"
   ]
  },
  {
   "cell_type": "markdown",
   "metadata": {},
   "source": [
    "#### Finding the most accurate k"
   ]
  },
  {
   "cell_type": "code",
   "execution_count": null,
   "metadata": {},
   "outputs": [],
   "source": [
    "toplot = []\n",
    "for k in range(1,51):\n",
    "    classifier =KNeighborsClassifier(n_neighbors=k) # Firstly the classifier is made\n",
    "# Then it is trained on the training data by using cross validation cv is the number of splits\n",
    "# We crossval our 5 fold to tune parameters and get an estimate of the score.\n",
    "\n",
    "    scoreknn = cross_val_score(classifier, X_trainc,  y_trainc, cv = 5) \n",
    "    toplot.append(scoreknn.mean())\n",
    "\n",
    "\n",
    "plt.plot(toplot)\n"
   ]
  },
  {
   "cell_type": "code",
   "execution_count": null,
   "metadata": {},
   "outputs": [],
   "source": [
    "KNNc =KNeighborsClassifier(n_neighbors=8) # Firstly the classifier is made\n",
    "# Then it is trained on the training data by using cross validation cv is the number of splits\n",
    "# We crossval our 5 fold to tune parameters and get an estimate of the score.\n",
    "\n",
    "scoresknn = cross_val_score(KNNc, X_trainc,  y_trainc, cv = 5) \n",
    "predictedknn = cross_val_predict(KNNc, X_trainc,  y_trainc, cv = 5 ) \n",
    "\n",
    "\n",
    "print(\"%0.2f accuracy with a standard deviation of %0.2f\" % (scoresknn.mean(), scoresknn.std()))"
   ]
  },
  {
   "cell_type": "markdown",
   "metadata": {},
   "source": [
    "## Classifying with support vector machine"
   ]
  },
  {
   "cell_type": "code",
   "execution_count": null,
   "metadata": {},
   "outputs": [],
   "source": [
    "\n",
    "SVMc = svm.SVC() # Firstly the classifier is made\n",
    "# Then it is trained on the training data by using cross validation cv is the number of splits\n",
    "\n",
    "scoresSVM = cross_val_score(SVMc, X_trainc,  y_trainc, cv = 5) \n",
    "predictedSVM = cross_val_predict(SVMc, X_trainc,  y_trainc, cv = 5 ) \n",
    "\n",
    "\n",
    "print(\"%0.2f accuracy with a standard deviation of %0.2f\" % (scoresSVM.mean(), scoresSVM.std()))"
   ]
  },
  {
   "cell_type": "markdown",
   "metadata": {},
   "source": [
    "## Classifying with decision tree"
   ]
  },
  {
   "cell_type": "code",
   "execution_count": null,
   "metadata": {},
   "outputs": [],
   "source": [
    "DTCc = DecisionTreeClassifier(max_depth=2) # Firstly the classifier is made\n",
    "# Then it is trained on the training data by using cross validation cv is the number of splits\n",
    "\n",
    "scoresDTC = cross_val_score(DTCc, X_trainc,  y_trainc, cv = 5) \n",
    "predictedDTC = cross_val_predict(DTCc, X_trainc,  y_trainc, cv = 5 ) \n",
    "\n",
    "\n",
    "print(\"%0.2f accuracy with a standard deviation of %0.2f\" % (scoresDTC.mean(), scoresDTC.std()))"
   ]
  },
  {
   "cell_type": "markdown",
   "metadata": {},
   "source": [
    "## Evaluation the classifiers on the training set"
   ]
  },
  {
   "cell_type": "code",
   "execution_count": null,
   "metadata": {},
   "outputs": [],
   "source": [
    "def model_validation(classifier_list, y_true):\n",
    "    validict = {}    \n",
    "    \n",
    "    for model in classifier_list:\n",
    "        \n",
    "        tn, fp, fn, tp = confusion_matrix(y_true, model[0]).ravel()\n",
    "        specificity = tn / (tn+fn)\n",
    "        sensitivity = tp / (tp+fp)\n",
    "        validict[model[1]] = (specificity,sensitivity)\n",
    "        \n",
    "    return validict\n"
   ]
  },
  {
   "cell_type": "code",
   "execution_count": null,
   "metadata": {},
   "outputs": [],
   "source": [
    "class_list = [(predictedknn, 'predicted_knn'), (predictedSVM, 'predicted_SVM'), (predictedDTC, 'predicted_tree')]\n",
    "\n",
    "validict = model_validation(class_list, y_trainc)\n",
    "\n",
    "for i in range(len(validict.keys())):\n",
    "    name = class_list[i][1]\n",
    "    print('{}: with specificity {} and sensitivity {}'.format(name, validict[name][0], validict[name][1]))"
   ]
  },
  {
   "cell_type": "markdown",
   "metadata": {},
   "source": [
    "## Choosing a classifier\n",
    "\n",
    "It is clear from the training sets that the classifiers doing best is the k-nearest neighbor and decision tree"
   ]
  },
  {
   "cell_type": "markdown",
   "metadata": {},
   "source": [
    "## Test set in classifier"
   ]
  },
  {
   "cell_type": "markdown",
   "metadata": {},
   "source": [
    "### k- nearest neighbor"
   ]
  },
  {
   "cell_type": "code",
   "execution_count": null,
   "metadata": {},
   "outputs": [],
   "source": [
    "scorestestknn = cross_val_score(KNNc, X_testc,  y_testc, cv = 5) \n",
    "predictedtestknn = cross_val_predict(KNNc, X_testc,  y_testc, cv = 5 )\n",
    "\n",
    "print(\"%0.2f accuracy with a standard deviation of %0.2f\" % (scorestestknn.mean(), scorestestknn.std()))"
   ]
  },
  {
   "cell_type": "code",
   "execution_count": null,
   "metadata": {},
   "outputs": [],
   "source": [
    "\n",
    "validict = model_validation([(predictedtestknn, 'predicted_test_knn')], y_testc)\n",
    "\n",
    "for i in range(len(validict.keys())):\n",
    "    name = 'predicted_test_knn'\n",
    "    print('{}: with specificity {} and sensitivity {}'.format(name, validict[name][0], validict[name][1]))"
   ]
  },
  {
   "cell_type": "markdown",
   "metadata": {},
   "source": [
    "### Decision tree"
   ]
  },
  {
   "cell_type": "code",
   "execution_count": null,
   "metadata": {},
   "outputs": [],
   "source": [
    "scorestestDCTc = cross_val_score(DTCc, X_testc,  y_testc, cv = 5) \n",
    "predictedtestDTCc = cross_val_predict(DTCc, X_testc,  y_testc, cv = 5 )\n",
    "print(\"%0.2f accuracy with a standard deviation of %0.2f\" % (scorestestDCTc.mean(), scorestestDCTc.std()))"
   ]
  },
  {
   "cell_type": "code",
   "execution_count": null,
   "metadata": {},
   "outputs": [],
   "source": [
    "\n",
    "validict = model_validation([(predictedtestDTCc, 'predicted_test_DTCc')], y_testc)\n",
    "\n",
    "for i in range(len(validict.keys())):\n",
    "    name = 'predicted_test_DTCc'\n",
    "    print('{}: with specificity {} and sensitivity {}'.format(name, validict[name][0], validict[name][1]))"
   ]
  },
  {
   "cell_type": "markdown",
   "metadata": {},
   "source": [
    "# Testing the chosen model and the response on changed quality\n",
    "## Load the images and masks"
   ]
  },
  {
   "cell_type": "code",
   "execution_count": null,
   "metadata": {},
   "outputs": [],
   "source": [
    "#load all images of type .jpg (good quality)\n",
    "im_file_good = glob.glob(\"../data/quality_test/good_quality/images/*.jpg\")\n",
    "#load all maps of type .png\n",
    "map_file_good = glob.glob(\"../data/quality_test/good_quality/masks/*.png\")\n",
    "\n",
    "\n",
    "#load all images of type .jpg (bad_quality)\n",
    "im_file_bad = glob.glob(\"../data/quality_test/bad_quality/images/*.jpg\")\n",
    "#load all maps of type .png\n",
    "map_file_bad = glob.glob(\"../data/quality_test/bad_quality/masks/*.png\")\n",
    "\n",
    "\n",
    "im_files_good = sorted(im_file_good)\n",
    "map_files_good = sorted(map_file_good)\n",
    "\n",
    "im_files_bad = sorted(im_file_bad)\n",
    "map_files_bad = sorted(map_file_bad)\n",
    "\n",
    "\n",
    "images_good = []\n",
    "maps_good = []\n",
    "maps_good_area = []\n",
    "\n",
    "for file in im_files_good:\n",
    "    im = Image.open(file)\n",
    "    images_good.append(im)\n",
    "\n",
    "for file in map_files_good:\n",
    "    im = Image.open(file)\n",
    "    maps_good.append(im)\n",
    "\n",
    "# Appending to the area and perimiter form\n",
    "for file in map_files_good:\n",
    "    im = plt.imread(file)\n",
    "    maps_good_area.append(im)\n",
    "\n",
    "# The images of bad quality:\n",
    "\n",
    "images_bad = []\n",
    "maps_bad = [] \n",
    "maps_bad_area = []\n",
    "\n",
    "for file in im_files_bad:\n",
    "    im = Image.open(file)\n",
    "    images_bad.append(im)\n",
    "\n",
    "for file in map_files_bad:\n",
    "    im = Image.open(file)\n",
    "    maps_bad.append(im)\n",
    "\n",
    "\n",
    "# Appending to the area and perimiter form\n",
    "for file in map_files_bad:\n",
    "    im = plt.imread(file)\n",
    "    maps_bad_area.append(im)\n"
   ]
  },
  {
   "cell_type": "code",
   "execution_count": null,
   "metadata": {},
   "outputs": [],
   "source": [
    "true_good = pd.read_csv('../data/quality_test/good_quality/good_quality_ground_truth.csv')\n",
    "true_good = true_good.sort_values(by=['image_id'], ascending=True)\n",
    "\n",
    "true_bad = pd.read_csv('../data/quality_test/bad_quality/bad_quality_ground_truth.csv')\n",
    "true_bad = true_bad.sort_values(by=['image_id'], ascending=True)\n"
   ]
  },
  {
   "cell_type": "markdown",
   "metadata": {},
   "source": [
    "## Calculating features for new datasets"
   ]
  },
  {
   "cell_type": "markdown",
   "metadata": {},
   "source": [
    "### Border\n",
    "#### Using perimeter/area"
   ]
  },
  {
   "cell_type": "code",
   "execution_count": null,
   "metadata": {},
   "outputs": [],
   "source": [
    "if run:\n",
    "    area_good = []\n",
    "    perimeter_good = []\n",
    "\n",
    "    '''With the use of morphology.disk(5)'''\n",
    "\n",
    "    for i in maps_good_area:\n",
    "        area, perimeter = measure_area_perimeter(i)\n",
    "        area_good.append(area)\n",
    "        perimeter_good.append(perimeter)\n",
    "\n",
    "    # Adding them to a file, so they don't have to be calculated each time\n",
    "\n",
    "    #np.savetxt(\"../data/features/perimeter_good.csv\", perimeter_good, delimiter=\",\")\n",
    "    #np.savetxt(\"../data/features/area_good.csv\", area_good, delimiter=\",\")\n",
    "\n"
   ]
  },
  {
   "cell_type": "code",
   "execution_count": null,
   "metadata": {},
   "outputs": [],
   "source": [
    "if run: \n",
    "    area_bad = []\n",
    "    perimeter_bad = []\n",
    "\n",
    "    '''With the use of morphology.disk(5)'''\n",
    "\n",
    "    for i in maps_bad_area:\n",
    "        area, perimeter = measure_area_perimeter(i)\n",
    "        area_bad.append(area)\n",
    "        perimeter_bad.append(perimeter)\n",
    "\n",
    "    # Adding them to a file, so they don't have to be calculated each time\n",
    "\n",
    "    #np.savetxt(\"../data/features/perimeter_bad.csv\", perimeter_bad, delimiter=\",\")\n",
    "    #np.savetxt(\"../data/features/area_bad.csv\", area_bad, delimiter=\",\")"
   ]
  },
  {
   "cell_type": "markdown",
   "metadata": {},
   "source": [
    "#### Caculating the perimeter divided by area"
   ]
  },
  {
   "cell_type": "code",
   "execution_count": null,
   "metadata": {},
   "outputs": [],
   "source": [
    "if run:\n",
    "    pa_good = []\n",
    "\n",
    "    for i in range(len(area_good)):\n",
    "        pa_good.append(perimeter_good[i]/area_good[i])\n",
    "\n",
    "    #np.savetxt(\"../data/features/perimeterdivarea_good.csv\", pa_good, delimiter=\",\")\n",
    "    sns.histplot(pa_good)"
   ]
  },
  {
   "cell_type": "code",
   "execution_count": null,
   "metadata": {},
   "outputs": [],
   "source": [
    "if run:\n",
    "    pa_bad = []\n",
    "\n",
    "    for i in range(len(area_bad)):\n",
    "        pa_bad.append(perimeter_bad[i]/area_bad[i])\n",
    "\n",
    "    #np.savetxt(\"../data/features/perimeterdivarea_bad.csv\", pa_bad, delimiter=\",\")\n",
    "\n",
    "    sns.histplot(pa_bad)"
   ]
  },
  {
   "cell_type": "markdown",
   "metadata": {},
   "source": [
    "## Asymmetry"
   ]
  },
  {
   "cell_type": "code",
   "execution_count": null,
   "metadata": {},
   "outputs": [],
   "source": [
    "def asymmetryGB(mask, area):\n",
    "    \n",
    "    borders = np.where(mask == 1) # This will return 2 arrays with the index where the pixels are ones\n",
    "    up, down, left, right = max(borders[0]), min(borders[0]), min(borders[1]), max(borders[1])\n",
    "    center = ((left + right)//2, (up+down) //2) # Tuple with the coordinates for the center of the lesion\n",
    "    \n",
    "    difference = 0\n",
    "    \n",
    "    for i in range(36):\n",
    "        borders = np.where(mask == 1) # This will return 2 arrays with the index where the pixels are ones\n",
    "        left, right = min(borders[1]), max(borders[1])\n",
    "        \n",
    "        radiusdiff = (center[0]-left) - (right-center[0])\n",
    "        difference += radiusdiff**2\n",
    "        mask = transform.rotate(mask, 5, center = center)\n",
    "    return difference/area"
   ]
  },
  {
   "cell_type": "code",
   "execution_count": null,
   "metadata": {},
   "outputs": [],
   "source": [
    "if run: \n",
    "    asymmetry_good = []\n",
    "\n",
    "    for i in range(len(maps_good_area)):\n",
    "        asy = asymmetryGB(maps_good_area[i], area_good[i])\n",
    "        asymmetry_good.append(asy)\n",
    "\n",
    "    #asymmetry_good\n",
    "\n",
    "    np.savetxt(\"../data/features/asymmetry_good.csv\", asymmetry_good, delimiter=\",\")"
   ]
  },
  {
   "cell_type": "code",
   "execution_count": null,
   "metadata": {},
   "outputs": [],
   "source": [
    "if run: \n",
    "    asymmetry_bad = []\n",
    "\n",
    "    for i in range(len(maps_bad_area)):\n",
    "        asy = asymmetryGB(maps_bad_area[i], area_bad[i])\n",
    "        asymmetry_bad.append(asy)\n",
    "\n",
    "    #asymmetry_bad\n",
    "\n",
    "    np.savetxt(\"../data/features/asymmetry_bad.csv\", asymmetry_bad, delimiter=\",\")"
   ]
  },
  {
   "cell_type": "markdown",
   "metadata": {},
   "source": [
    "## Color segmentation"
   ]
  },
  {
   "cell_type": "code",
   "execution_count": null,
   "metadata": {},
   "outputs": [],
   "source": [
    "if run:\n",
    "    CS_good = color_segmentation(images_good, maps_good)\n",
    "    np.savetxt(\"../data/features/col_seg_good.csv\", CS_good, delimiter=\",\")"
   ]
  },
  {
   "cell_type": "code",
   "execution_count": null,
   "metadata": {},
   "outputs": [],
   "source": [
    "if run:\n",
    "    CS_bad = color_segmentation(images_bad, bad_good)\n",
    "    np.savetxt(\"../data/features/col_seg_bad.csv\", CS_bad, delimiter=\",\")"
   ]
  },
  {
   "cell_type": "markdown",
   "metadata": {},
   "source": [
    "# New features in one dataframe each and scaling and normalising the features\n",
    "\n",
    "### Good quality images"
   ]
  },
  {
   "cell_type": "code",
   "execution_count": null,
   "metadata": {},
   "outputs": [],
   "source": [
    "pa_good = pd.read_csv('../data/features/perimeterdivarea_good.csv', names = ['peri/area'])\n",
    "asymmetry_good = pd.read_csv(\"../data/features/asymmetry_good.csv\", names = ['asymmetry'])\n",
    "segmentation_good = pd.read_csv(\"../data/features/col_seg_good.csv\", names = ['color segmentation/area'])\n",
    "\n",
    "true_good['asymmetry'] = asymmetry_good\n",
    "true_good['peri/area'] = pa_good\n",
    "true_good['color segmentation/area'] = segmentation_good\n",
    "\n",
    "all_good_features = true_good"
   ]
  },
  {
   "cell_type": "code",
   "execution_count": null,
   "metadata": {},
   "outputs": [],
   "source": [
    "onlyfeatures_good = all_good_features[[ 'asymmetry', 'peri/area', 'color segmentation/area']]\n",
    "\n",
    "# Scaling the features\n",
    "\n",
    "#Fit scaler on our data\n",
    "scaler_good = preprocessing.StandardScaler().fit(onlyfeatures_good)\n",
    "\n",
    "#Apply to data itself\n",
    "normfeatures_good = scaler.transform(onlyfeatures_good)\n",
    "\n",
    "print(normfeatures_good.mean()) #small number close to 0, round of error\n",
    "print(normfeatures_good.var())  #equal to 1 \n",
    "sns.boxplot(data=normfeatures_good, width=0.5,fliersize=5) #we see both negative and positive values, since the mean is 0\n"
   ]
  },
  {
   "cell_type": "code",
   "execution_count": null,
   "metadata": {},
   "outputs": [],
   "source": [
    "normfeatures_good = pd.DataFrame(normfeatures_good, columns = [ 'asymmetry', 'peri/area', 'color segmentation/area'])\n",
    "\n",
    "# Look at values per class\n",
    "normfeatures_good['melanoma'] = all_good_features['melanoma']\n",
    "\n",
    "\n",
    "sns.pairplot(normfeatures_good, hue=\"melanoma\", height=5,diag_kind=\"hist\", vars = ['asymmetry', 'peri/area', 'color segmentation/area'])"
   ]
  },
  {
   "cell_type": "markdown",
   "metadata": {},
   "source": [
    "### Bad quality images"
   ]
  },
  {
   "cell_type": "code",
   "execution_count": null,
   "metadata": {},
   "outputs": [],
   "source": [
    "pa_bad = pd.read_csv('../data/features/perimeterdivarea_bad.csv', names = ['peri/area'])\n",
    "asymmetry_bad = pd.read_csv(\"../data/features/asymmetry_bad.csv\", names = ['asymmetry'])\n",
    "segmentation_bad = pd.read_csv(\"../data/features/col_seg_bad.csv\", names = ['color segmentation/area'])\n",
    "\n",
    "true_bad['asymmetry'] = asymmetry_bad\n",
    "true_bad['peri/area'] = pa_bad\n",
    "true_bad['color segmentation/area'] = segmentation_bad\n",
    "\n",
    "all_bad_features = true_bad"
   ]
  },
  {
   "cell_type": "code",
   "execution_count": null,
   "metadata": {},
   "outputs": [],
   "source": [
    "onlyfeatures_bad = all_bad_features[[ 'asymmetry', 'peri/area', 'color segmentation/area']]\n",
    "\n",
    "# Scaling the features\n",
    "\n",
    "#Fit scaler on our data\n",
    "scaler_bad = preprocessing.StandardScaler().fit(onlyfeatures_bad)\n",
    "\n",
    "#Apply to data itself\n",
    "normfeatures_bad = scaler.transform(onlyfeatures_bad)\n",
    "\n",
    "print(normfeatures_bad.mean()) #small number close to 0, round of error\n",
    "print(normfeatures_bad.var())  #equal to 1 \n",
    "sns.boxplot(data=normfeatures_bad, width=0.5,fliersize=5) #we see both negative and positive values, since the mean is 0"
   ]
  },
  {
   "cell_type": "code",
   "execution_count": null,
   "metadata": {},
   "outputs": [],
   "source": [
    "normfeatures_bad = pd.DataFrame(normfeatures_bad, columns = [ 'asymmetry', 'peri/area', 'color segmentation/area'])\n",
    "\n",
    "# Look at values per class\n",
    "normfeatures_bad['melanoma'] = all_bad_features['melanoma']\n",
    "\n",
    "\n",
    "sns.pairplot(normfeatures_bad, hue=\"melanoma\", height=5,diag_kind=\"hist\", vars = ['asymmetry', 'peri/area', 'color segmentation/area'])"
   ]
  },
  {
   "cell_type": "markdown",
   "metadata": {},
   "source": [
    "## Testing the classifier with the different image resolutions"
   ]
  },
  {
   "cell_type": "markdown",
   "metadata": {},
   "source": [
    "### Good image resolution"
   ]
  },
  {
   "cell_type": "code",
   "execution_count": null,
   "metadata": {},
   "outputs": [],
   "source": [
    "X_good = normfeatures_good[['asymmetry', 'peri/area',  'color segmentation/area' ]]\n",
    "y_good = normfeatures_good['melanoma']"
   ]
  },
  {
   "cell_type": "markdown",
   "metadata": {},
   "source": [
    "#### K-nearest neighbor"
   ]
  },
  {
   "cell_type": "code",
   "execution_count": null,
   "metadata": {},
   "outputs": [],
   "source": [
    "scoresknn_good = cross_val_score(KNNc, X_good,  y_good, cv = 5) \n",
    "predictedknn_good = cross_val_predict(KNNc, X_good,  y_good, cv = 5 )\n",
    "\n",
    "print(\"%0.2f accuracy with a standard deviation of %0.2f\" % (scoresknn_good.mean(), scoresknn_good.std()))"
   ]
  },
  {
   "cell_type": "code",
   "execution_count": null,
   "metadata": {},
   "outputs": [],
   "source": [
    "validict_good = model_validation([(predictedknn_good, 'predictedknn_good')], y_good)\n",
    "\n",
    "for i in range(len(validict_good.keys())):\n",
    "    name = 'predictedknn_good'\n",
    "    print('{}: with specificity {} and sensitivity {}'.format(name, validict_good[name][0], validict_good[name][1]))\n",
    "    \n",
    "   "
   ]
  },
  {
   "cell_type": "markdown",
   "metadata": {},
   "source": [
    "#### Decision tree classifier"
   ]
  },
  {
   "cell_type": "code",
   "execution_count": null,
   "metadata": {},
   "outputs": [],
   "source": [
    "scoresDCTc_good = cross_val_score(DTCc, X_good,  y_good, cv = 5) \n",
    "predictedDTCc_good = cross_val_predict(DTCc, X_good,  y_good, cv = 5 )\n",
    "print(\"%0.2f accuracy with a standard deviation of %0.2f\" % (scoresDCTc_good.mean(), scoresDCTc_good.std()))"
   ]
  },
  {
   "cell_type": "code",
   "execution_count": null,
   "metadata": {},
   "outputs": [],
   "source": [
    "validictDTC_good = model_validation([(predictedDTCc_good, 'predictedDTC_good')], y_good)\n",
    "\n",
    "for i in range(len(validictDTC_good.keys())):\n",
    "    name = 'predictedDTC_good'\n",
    "    print('{}: with specificity {} and sensitivity {}'.format(name, validictDTC_good[name][0], validictDTC_good[name][1]))"
   ]
  },
  {
   "cell_type": "markdown",
   "metadata": {},
   "source": [
    "### Bad image resolution "
   ]
  },
  {
   "cell_type": "code",
   "execution_count": null,
   "metadata": {},
   "outputs": [],
   "source": [
    "X_bad = normfeatures_bad[['asymmetry', 'peri/area',  'color segmentation/area' ]]\n",
    "y_bad = normfeatures_bad['melanoma']"
   ]
  },
  {
   "cell_type": "markdown",
   "metadata": {},
   "source": [
    "#### K-nearest neighbor"
   ]
  },
  {
   "cell_type": "code",
   "execution_count": null,
   "metadata": {},
   "outputs": [],
   "source": [
    "scoresknn_bad = cross_val_score(KNNc, X_bad,  y_bad, cv = 5) \n",
    "predictedknn_bad = cross_val_predict(KNNc, X_bad,  y_bad, cv = 5 )\n",
    "\n",
    "print(\"%0.2f accuracy with a standard deviation of %0.2f\" % (scoresknn_bad.mean(), scoresknn_bad.std()))"
   ]
  },
  {
   "cell_type": "code",
   "execution_count": null,
   "metadata": {},
   "outputs": [],
   "source": [
    "validict_bad = model_validation([(predictedknn_bad, 'predictedknn_bad')], y_bad)\n",
    "\n",
    "for i in range(len(validict_bad.keys())):\n",
    "    name = 'predictedknn_bad'\n",
    "    print('{}: with specificity {} and sensitivity {}'.format(name, validict_bad[name][0], validict_bad[name][1]))\n",
    "    \n",
    "   "
   ]
  },
  {
   "cell_type": "markdown",
   "metadata": {},
   "source": [
    "#### Decision tree classifier"
   ]
  },
  {
   "cell_type": "code",
   "execution_count": null,
   "metadata": {},
   "outputs": [],
   "source": [
    "scoresDCTc_bad = cross_val_score(DTCc, X_bad,  y_bad, cv = 5) \n",
    "predictedDTCc_bad = cross_val_predict(DTCc, X_bad,  y_bad, cv = 5 )\n",
    "print(\"%0.2f accuracy with a standard deviation of %0.2f\" % (scoresDCTc_bad.mean(), scoresDCTc_bad.std()))"
   ]
  },
  {
   "cell_type": "code",
   "execution_count": null,
   "metadata": {},
   "outputs": [],
   "source": [
    "validictDTC_bad = model_validation([(predictedDTCc_bad, 'predictedDTC_bad')], y_bad)\n",
    "\n",
    "for i in range(len(validictDTC_bad.keys())):\n",
    "    name = 'predictedDTC_bad'\n",
    "    print('{}: with specificity {} and sensitivity {}'.format(name, validictDTC_bad[name][0], validictDTC_bad[name][1]))"
   ]
  },
  {
   "cell_type": "code",
   "execution_count": null,
   "metadata": {},
   "outputs": [],
   "source": []
  }
 ],
 "metadata": {
  "kernelspec": {
   "display_name": "Python 3",
   "language": "python",
   "name": "python3"
  },
  "language_info": {
   "codemirror_mode": {
    "name": "ipython",
    "version": 3
   },
   "file_extension": ".py",
   "mimetype": "text/x-python",
   "name": "python",
   "nbconvert_exporter": "python",
   "pygments_lexer": "ipython3",
   "version": "3.8.2"
  }
 },
 "nbformat": 4,
 "nbformat_minor": 4
}
