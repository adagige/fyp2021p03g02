{
 "cells": [
  {
   "cell_type": "markdown",
   "metadata": {},
   "source": [
    "# Project 3\n",
    "**Group 2** \n",
    "Ada Matilde Gige (adgi@itu.dk), Albert Schiffer (albsc@itu.dk), Andreas Frederik Flensted Olsen (frao@itu.dk), Timothy Beck (tibe@itu.dk) and Victor Popp Henriksen (vhen@itu.dk)\n",
    "\n",
    "Created: 2021-04-06\n",
    "\n",
    "Last modified: 2021-04-22\n",
    "\n",
    "Link to repo: https://github.com/adagige/fyp2021p03g02.git"
   ]
  },
  {
   "cell_type": "markdown",
   "metadata": {},
   "source": [
    "# Imports"
   ]
  },
  {
   "cell_type": "code",
   "execution_count": 2,
   "metadata": {},
   "outputs": [],
   "source": [
    "import matplotlib.pyplot as plt\n",
    "import numpy as np\n",
    "import pandas as pd\n",
    "import math\n",
    "import seaborn as sns\n",
    "\n",
    "from skimage.segmentation import felzenszwalb, slic, quickshift, watershed\n",
    "from skimage.segmentation import mark_boundaries\n",
    "from skimage import transform\n",
    "from PIL import Image \n",
    "\n",
    "from sklearn import preprocessing\n",
    "from sklearn.model_selection import train_test_split\n",
    "from sklearn.feature_selection import mutual_info_classif, SelectKBest\n",
    "from sklearn.neighbors import KNeighborsClassifier\n",
    "from sklearn.tree import DecisionTreeClassifier\n",
    "from sklearn import svm\n",
    "from sklearn.metrics import classification_report\n",
    "\n",
    "import glob #For finding specific file types\n",
    "\n",
    "%run -i ../fyp2021p3_group00_functions.py"
   ]
  },
  {
   "cell_type": "markdown",
   "metadata": {},
   "source": [
    "# Running or watching code?\n",
    "\n",
    "### If you are interested in only watching the code set the constant run to False, if you want to run the code set the constant to True\n",
    "\n",
    "When watching the code some files will be loaded, but it is feature files which are already made by the code in the Notebook and then saved"
   ]
  },
  {
   "cell_type": "code",
   "execution_count": 21,
   "metadata": {},
   "outputs": [],
   "source": [
    "run = False"
   ]
  },
  {
   "cell_type": "markdown",
   "metadata": {},
   "source": [
    "# Loading raw datafiles"
   ]
  },
  {
   "cell_type": "code",
   "execution_count": 3,
   "metadata": {},
   "outputs": [],
   "source": [
    "\n",
    "#load all images of type .jpg\n",
    "im_file_list2 = glob.glob(\"../data/example_image/*.jpg\")\n",
    "#load all maps of type .png\n",
    "map_file_list2 = glob.glob(\"../data/example_segmentation/*.png\")\n",
    "\n",
    "#load external images \n",
    "im_file_liste = glob.glob(\"../data/external_data/resized_images/*.jpg\")\n",
    "#Load external maps\n",
    "map_file_liste = glob.glob(\"../data/external_data/resized_masks/*.png\")\n",
    "\n",
    "#im_files = sorted(im_file_list2, key = uniq)\n",
    "im_files = sorted(im_file_list2)\n",
    "len(im_files)\n",
    "\n",
    "#map_files = sorted(map_file_list2, key = uniq)\n",
    "map_files = sorted(map_file_list2)\n",
    "len(map_files)\n",
    "\n",
    "#im_files = sorted(im_file_list2, key = uniq)\n",
    "im_filese = sorted(im_file_liste)\n",
    "len(im_filese)\n",
    "\n",
    "#map_files = sorted(map_file_list2, key = uniq)\n",
    "map_filese = sorted(map_file_liste)\n",
    "len(map_filese)    \n",
    "\n",
    "\n",
    "\n",
    "# Loading the true file in\n",
    "true1 = pd.read_csv('../data/example_ground_truth.csv')\n",
    "true2 = pd.read_csv('../data/external_data/resized_ISIC-2017_Training_Part3_GroundTruth.csv')\n",
    "\n",
    "true = pd.concat([true1, true2], ignore_index=True)\n",
    "# It is already sorted why it is not sorted as the others\n"
   ]
  },
  {
   "cell_type": "markdown",
   "metadata": {},
   "source": [
    "## Loading the images into a list and making an ID dictionary\n",
    "Taken from: https://stackoverflow.com/questions/33369832/read-multiple-images-on-a-folder-in-opencv-python/33371454"
   ]
  },
  {
   "cell_type": "code",
   "execution_count": 4,
   "metadata": {},
   "outputs": [],
   "source": [
    "images = []\n",
    "for file in im_files:\n",
    "    im = Image.open(file)\n",
    "    im = im.resize((800,500), resample=1) \n",
    "    images.append(im)\n",
    "\n",
    "for file in im_filese:\n",
    "    im = Image.open(file)\n",
    "    images.append(im)\n",
    "\n",
    "maps = []\n",
    "\n",
    "for file in map_files:\n",
    "    ma = Image.open(file)\n",
    "    ma = ma.resize((800,500), resample=1)\n",
    "    maps.append(ma)\n",
    "\n",
    "for file in map_filese:\n",
    "    ma = Image.open(file)\n",
    "    maps.append(ma)\n",
    "\n",
    "\n",
    "# Making a dictionary to find the id from the index\n",
    "pic_id = dict()\n",
    "\n",
    "for i in range(150):\n",
    "    pic_id[i] = true['image_id'][i]"
   ]
  },
  {
   "cell_type": "markdown",
   "metadata": {},
   "source": [
    "# Features"
   ]
  },
  {
   "cell_type": "markdown",
   "metadata": {},
   "source": [
    "## Assymetry\n",
    "The assymetry is meassured by finding the center of the image, measuring the distance to the border on each side and comparing the two, the difference was squared to prevent negative number and added to the onstant difference. Then the image was rotated 5 degrees and the mesurement was done once again, the image was rotated 36 times. Adter the rotation the difference was divided by the area of the lesion to normalise the meassurement. "
   ]
  },
  {
   "cell_type": "code",
   "execution_count": 12,
   "metadata": {},
   "outputs": [],
   "source": [
    "#A function that finds the center of a picture and meassures the assymmetri\n",
    "\n",
    "def assymmetry(mapID):\n",
    "    mask = np.array(maps[mapID])\n",
    "    \n",
    "    borders = np.where(mask == 1) # This will return 2 arrays with the index where the pixels are ones\n",
    "    up, down, left, right = max(borders[0]), min(borders[0]), min(borders[1]), max(borders[1])\n",
    "    center = ((left + right)//2, (up+down) //2) # Tuple with the coordinates for the center of the lesion\n",
    "    \n",
    "    difference = 0\n",
    "    \n",
    "    for i in range(36):\n",
    "        borders = np.where(mask == 1) # This will return 2 arrays with the index where the pixels are ones\n",
    "        left, right = min(borders[1]), max(borders[1])\n",
    "        \n",
    "        radiusdiff = (center[0]-left) - (right-center[0])\n",
    "        difference += radiusdiff**2\n",
    "        mask = transform.rotate(mask, 5, center = center)\n",
    "    return difference/areas[mapID]\n",
    "    "
   ]
  },
  {
   "cell_type": "markdown",
   "metadata": {},
   "source": [
    "We ran all images through the function via the lines of code below and saved the output to a file to save time."
   ]
  },
  {
   "cell_type": "code",
   "execution_count": null,
   "metadata": {},
   "outputs": [],
   "source": [
    "# Making a list with all asymmetry values in it and then savin it.\n",
    "if run:\n",
    "    asymmetrylist = []\n",
    "\n",
    "    for i in range(300):\n",
    "        asymmetrylist.append(assymmetry(i))\n",
    "\n",
    "    #np.savetxt(\"../data/features/assymmetry36.csv\", asymmetrylist, delimiter=\",\")"
   ]
  },
  {
   "cell_type": "markdown",
   "metadata": {},
   "source": [
    "### Showing how the assymettry function works"
   ]
  },
  {
   "cell_type": "code",
   "execution_count": 20,
   "metadata": {},
   "outputs": [
    {
     "data": {
      "image/png": "[encoded data removed]",
      "text/plain": [
       "<Figure size 1440x720 with 4 Axes>"
      ]
     },
     "metadata": {
      "needs_background": "light"
     },
     "output_type": "display_data"
    }
   ],
   "source": [
    "fig, axes = plt.subplots(nrows=1, ncols=4, figsize=(20, 10))\n",
    "\n",
    "mask = np.array(maps[4])\n",
    "\n",
    "borders = np.where(mask == 1) # This will return 2 arrays with the index where the pixels are ones\n",
    "up, down, left, right = max(borders[0]), min(borders[0]), min(borders[1]), max(borders[1])\n",
    "center = ((left + right)//2, (up+down) //2) # Tuple with the coordinates for the center of the lesion\n",
    "\n",
    "difference = 0\n",
    "\n",
    "for i in range(4):\n",
    "    borders = np.where(mask == 1) # This will return 2 arrays with the index where the pixels are ones\n",
    "    left, right = min(borders[1]), max(borders[1])\n",
    "   \n",
    "    \n",
    "    axes[i].imshow(mask, cmap = 'gray')\n",
    "    axes[i].scatter(center[0], center[1], s=25, c='red', marker='o')\n",
    "   # axes[i].show()\n",
    "    \n",
    "    radiusdiff = (center[0]-left) - (right-center[0])\n",
    "    difference += radiusdiff**2\n",
    "    mask = transform.rotate(mask, 45, center = center)\n",
    "\n",
    "fig.tight_layout()"
   ]
  },
  {
   "cell_type": "markdown",
   "metadata": {},
   "source": [
    "## Border"
   ]
  },
  {
   "cell_type": "markdown",
   "metadata": {},
   "source": [
    "To measure the regularity of the border the ration perimeter divided by area was used. The area and perimeter ratio has shown great results in other studies, Fikrle and Pizinger 2007. \n",
    "https://groups.inf.ed.ac.uk/vision/MCDONAGH/related%20work/literature/digital%20computer%20analysis%20of%20dermatoscopical%20images%20-%20Fikrle%20Pizinger%20-%20March%202006.pdf"
   ]
  },
  {
   "cell_type": "markdown",
   "metadata": {},
   "source": [
    "### Area and perimeter\n",
    "To find the area and perimeter we used the function from Veronicka with the morphology.disk() set to 5.\n",
    "We tried different values of morphology.disk() but 5 was found to the the best meassurement for the feature."
   ]
  },
  {
   "cell_type": "code",
   "execution_count": null,
   "metadata": {},
   "outputs": [],
   "source": [
    "if run: \n",
    "    #Loading the maps in as plt files to be used to find the area an perimiter.\n",
    "\n",
    "    #load all maps of type .png\n",
    "    map_file_area = glob.glob(\"../data/example_segmentation_resize/*.png\")\n",
    "\n",
    "    #Load external maps\n",
    "    map_filee_area = glob.glob(\"../data/external_data/resized_masks/*.png\")\n",
    "\n",
    "\n",
    "    map_files_area = sorted(map_file_area)\n",
    "\n",
    "    map_filese_area = sorted(map_filee_area)   \n",
    "\n",
    "\n",
    "    mapsarea = []\n",
    "\n",
    "    for file in map_files_area:\n",
    "        im = plt.imread(file)\n",
    "        mapsarea.append(im)\n",
    "\n",
    "    for file in map_filese_area:\n",
    "        im = plt.imread(file)\n",
    "        mapsarea.append(im)\n"
   ]
  },
  {
   "cell_type": "code",
   "execution_count": null,
   "metadata": {},
   "outputs": [],
   "source": [
    "if run: \n",
    "    # Finding the area and perimeter of all images. \n",
    "    '''With the use of morphology.disk(5)'''\n",
    "\n",
    "\n",
    "    areas = []\n",
    "    peris = []\n",
    "    for i in mapsarea:\n",
    "        area, perimiter = measure_area_perimeter(i)\n",
    "        areas.append(area)\n",
    "        peris.append(perimiter)\n",
    "\n",
    "    # Adding them to a file, so they don't have to be calculated each time\n",
    "\n",
    "    #np.savetxt(\"../data/features/perimeter5.csv\", peris, delimiter=\",\")\n",
    "    #np.savetxt(\"../data/features/area5.csv\", areas, delimiter=\",\")"
   ]
  },
  {
   "cell_type": "markdown",
   "metadata": {},
   "source": [
    "#### Area and perimeter scatterplot"
   ]
  },
  {
   "cell_type": "code",
   "execution_count": 22,
   "metadata": {},
   "outputs": [],
   "source": [
    "if not run: \n",
    "    area = np.genfromtxt('../data/features/area5.csv', delimiter=',')\n",
    "    perimeter = np.genfromtxt('../data/features/perimeter5.csv', delimiter=',')"
   ]
  },
  {
   "cell_type": "code",
   "execution_count": 23,
   "metadata": {},
   "outputs": [],
   "source": [
    "def scatterplot(area, perimeter):\n",
    "    # Define the size of the figure\n",
    "    fig = plt.figure(figsize=(4, 3))\n",
    "    # Set axes, that you want to work with:\n",
    "    axes = fig.add_axes([0, 0, 1, 1]) # left, bottom, width, height (range 0 to 1)\n",
    "    # actually plot the data:\n",
    "    axes.scatter(area, perimeter, label = 'Data', edgecolors='white')\n",
    "    axes.set_title('Area and perimeter')\n",
    "    axes.set_xlabel('Area')\n",
    "    axes.set_ylabel('Perimeter')\n",
    "    #axes.legend(loc='upper left'); axes.set_xlabel(data); axes.set_ylabel(data); axes.set_title('Scatter plot');\n",
    "    return None"
   ]
  },
  {
   "cell_type": "code",
   "execution_count": 37,
   "metadata": {},
   "outputs": [
    {
     "data": {
      "image/png": "[encoded data removed]",
      "text/plain": [
       "<Figure size 288x216 with 1 Axes>"
      ]
     },
     "metadata": {
      "needs_background": "light"
     },
     "output_type": "display_data"
    }
   ],
   "source": [
    "scatterplot(area, perimeter)"
   ]
  },
  {
   "cell_type": "markdown",
   "metadata": {},
   "source": [
    "### Perimeter divided by area"
   ]
  },
  {
   "cell_type": "code",
   "execution_count": 28,
   "metadata": {},
   "outputs": [],
   "source": [
    "if run:\n",
    "    #making the perimiter divided by area feature\n",
    "    pa = []\n",
    "    for i in range(300): \n",
    "        pa.append(perimeter5[i]/areas5[i])\n",
    "\n",
    "    # Making a file with the perimeter divided by area feature\n",
    "    #np.savetxt(\"../data/features/perimeterdivarea5.csv\", pa, delimiter=\",\")"
   ]
  },
  {
   "cell_type": "code",
   "execution_count": 27,
   "metadata": {},
   "outputs": [],
   "source": [
    "if not run: \n",
    "    pa = np.genfromtxt('../data/features/perimeterdivarea5.csv', delimiter = ',')"
   ]
  },
  {
   "cell_type": "markdown",
   "metadata": {},
   "source": [
    "#### Histogram with the perimeter/area"
   ]
  },
  {
   "cell_type": "code",
   "execution_count": 47,
   "metadata": {},
   "outputs": [
    {
     "data": {
      "text/plain": [
       "<matplotlib.axes._subplots.AxesSubplot at 0x245dc3a4640>"
      ]
     },
     "execution_count": 47,
     "metadata": {},
     "output_type": "execute_result"
    },
    {
     "data": {
      "image/png": "[encoded data removed]",
      "text/plain": [
       "<Figure size 432x288 with 1 Axes>"
      ]
     },
     "metadata": {
      "needs_background": "light"
     },
     "output_type": "display_data"
    }
   ],
   "source": [
    "sns.histplot(pa, bins = 20)"
   ]
  },
  {
   "cell_type": "code",
   "execution_count": null,
   "metadata": {},
   "outputs": [],
   "source": []
  }
 ],
 "metadata": {
  "kernelspec": {
   "display_name": "Python 3",
   "language": "python",
   "name": "python3"
  },
  "language_info": {
   "codemirror_mode": {
    "name": "ipython",
    "version": 3
   },
   "file_extension": ".py",
   "mimetype": "text/x-python",
   "name": "python",
   "nbconvert_exporter": "python",
   "pygments_lexer": "ipython3",
   "version": "3.8.3"
  }
 },
 "nbformat": 4,
 "nbformat_minor": 4
}
