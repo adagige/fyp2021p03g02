{
 "cells": [
  {
   "cell_type": "markdown",
   "metadata": {},
   "source": [
    "# Answers to exercise 1.1\n",
    "## Most code borrowed from Veronica"
   ]
  },
  {
   "cell_type": "markdown",
   "metadata": {},
   "source": [
    "Importing different needed packages"
   ]
  },
  {
   "cell_type": "code",
   "execution_count": 130,
   "metadata": {},
   "outputs": [],
   "source": [
    "import matplotlib.pyplot as plt\n",
    "import numpy as np\n",
    "import pandas as pd\n",
    "import math\n",
    "\n",
    "from PIL import Image \n",
    "from skimage import transform\n",
    "from sklearn import preprocessing\n",
    "from sklearn.model_selection import train_test_split\n",
    "from sklearn.feature_selection import mutual_info_classif, SelectKBest\n",
    "from sklearn.neighbors import KNeighborsClassifier\n",
    "from sklearn.tree import DecisionTreeClassifier\n",
    "from sklearn import svm\n",
    "\n",
    "\n",
    "import seaborn as sns\n",
    "\n",
    "from os import walk #Used for getting all the filenames from a given directory !!!!!MAYBE NOT NECESSARY!!!!!\n",
    "import glob #For finding specific file types\n",
    "\n",
    "\n",
    "%run -i ../fyp2021p3_group00_functions.py"
   ]
  },
  {
   "cell_type": "markdown",
   "metadata": {},
   "source": [
    "## Loading in the files"
   ]
  },
  {
   "cell_type": "code",
   "execution_count": 8,
   "metadata": {},
   "outputs": [
    {
     "data": {
      "text/plain": [
       "150"
      ]
     },
     "execution_count": 8,
     "metadata": {},
     "output_type": "execute_result"
    }
   ],
   "source": [
    "#load all images of type .jpg\n",
    "im_file_list2 = glob.glob(\"../data/example_image/*.jpg\")\n",
    "#load all maps of type .png\n",
    "map_file_list2 = glob.glob(\"../data/example_segmentation/*.png\")\n",
    "\n",
    "#im_files = sorted(im_file_list2, key = uniq)\n",
    "im_files = sorted(im_file_list2)\n",
    "len(im_files)\n",
    "\n",
    "#map_files = sorted(map_file_list2, key = uniq)\n",
    "map_files = sorted(map_file_list2)\n",
    "len(map_files)         \n"
   ]
  },
  {
   "cell_type": "code",
   "execution_count": 9,
   "metadata": {},
   "outputs": [],
   "source": [
    "# Loading the true file in\n",
    "true = pd.read_csv('../data/example_ground_truth.csv')\n",
    "\n",
    "# It is already sorted why it is not sorted as the others\n",
    "\n",
    "# Making a dictionary to find the id from the index\n",
    "pic_id = dict()\n",
    "\n",
    "for i in range(150):\n",
    "    pic_id[i] = true['image_id'][i]\n",
    "    \n"
   ]
  },
  {
   "cell_type": "markdown",
   "metadata": {},
   "source": [
    "## Loading images into a list"
   ]
  },
  {
   "cell_type": "code",
   "execution_count": 10,
   "metadata": {},
   "outputs": [],
   "source": [
    "#Load in all .jpg files from the 'example_image' folder\n",
    "images = [plt.imread(file) for file in im_files]\n",
    "#Load in all .png files from the 'example_segmentation' folder\n",
    "maps = [plt.imread(file) for file in map_files]"
   ]
  },
  {
   "cell_type": "markdown",
   "metadata": {},
   "source": [
    "## Explore an image from the dataset"
   ]
  },
  {
   "cell_type": "code",
   "execution_count": null,
   "metadata": {},
   "outputs": [],
   "source": [
    "# Load an image and display it\n",
    "\n",
    "im = plt.imread('../data/example_image/ISIC_0001769.jpg')\n",
    "plt.imshow(im)"
   ]
  },
  {
   "cell_type": "code",
   "execution_count": null,
   "metadata": {},
   "outputs": [],
   "source": [
    "#A color image is a array with 3 dimensions (x, y, R-G-B color channels) of integers\n",
    "\n",
    "print(im.shape)\n",
    "print(im.dtype)\n",
    "\n",
    "#Other packages might wrap the image in a different class - you are allowed to use those if you want"
   ]
  },
  {
   "cell_type": "code",
   "execution_count": null,
   "metadata": {},
   "outputs": [],
   "source": [
    "# Get a single RGB value from the blue circle (marker used by dermatologist)\n",
    "print(im[2000,2000,:])\n",
    "\n",
    "# Show only the red channel\n",
    "plt.imshow(im[:,:,0], cmap='gray')"
   ]
  },
  {
   "cell_type": "code",
   "execution_count": null,
   "metadata": {},
   "outputs": [],
   "source": [
    "# Display only a part of the image\n",
    "\n",
    "im_part = im[60:120,130:220,:]\n",
    "plt.imshow(im_part)"
   ]
  },
  {
   "cell_type": "code",
   "execution_count": null,
   "metadata": {},
   "outputs": [],
   "source": [
    "# Modify the image by setting some pixels to black\n",
    "\n",
    "im_copy = im_part.copy()\n",
    "\n",
    "\n",
    "im_copy[0:10,0:10,:] = np.tile(0, [10, 10, 3])\n",
    "plt.imshow(im_copy)"
   ]
  },
  {
   "cell_type": "code",
   "execution_count": null,
   "metadata": {},
   "outputs": [],
   "source": [
    "# Load the mask and display it\n",
    "\n",
    "mask= plt.imread('../data/example_segmentation/ISIC_0001769_segmentation.png')\n",
    "plt.imshow(mask, cmap='gray')\n",
    "print(mask.shape)\n",
    "print(mask.dtype)"
   ]
  },
  {
   "cell_type": "code",
   "execution_count": null,
   "metadata": {},
   "outputs": [],
   "source": [
    "# Show image and mask side by side\n",
    "\n",
    "fig, axes = plt.subplots(nrows=1, ncols=2, figsize=(5, 3))\n",
    "axes[0].imshow(im)\n",
    "axes[1].imshow(mask, cmap='gray')\n",
    "fig.tight_layout()"
   ]
  },
  {
   "cell_type": "code",
   "execution_count": null,
   "metadata": {},
   "outputs": [],
   "source": [
    "# Show the images overlayed, for this we can use PIL \n",
    "\n",
    "\n",
    "# Load images as Image objects  \n",
    "img1 = Image.open('../data/example_image/ISIC_0001769.jpg') \n",
    "img2 = Image.open('../data/example_segmentation/ISIC_0001769_segmentation.png') \n",
    "\n",
    "# Overlay - more options such as transparency should be available here  \n",
    "img2.paste(img1, (0,0), mask = img2) \n",
    "\n",
    "#Display\n",
    "plt.imshow(img2, cmap='gray')\n",
    "\n",
    "# Note that this is a single channel image\n",
    "print(img2.shape)"
   ]
  },
  {
   "cell_type": "code",
   "execution_count": null,
   "metadata": {},
   "outputs": [],
   "source": [
    "# Alternative: replace the non-lesion pixels\n",
    "\n",
    "img1 = im.copy()\n",
    "img1[mask==0] = 0\n",
    "  \n",
    "# Display \n",
    "plt.imshow(img1)\n",
    "\n",
    "# You can use any package you prefer, but beware you might need to convert between formats"
   ]
  },
  {
   "cell_type": "code",
   "execution_count": null,
   "metadata": {},
   "outputs": [],
   "source": [
    "def rgb2gray(rgb):\n",
    "\n",
    "    r, g, b = rgb[:,:,0], rgb[:,:,1], rgb[:,:,2]\n",
    "    gray = 0.2989 * r + 0.5870 * g + 0.1140 * b\n",
    "\n",
    "    return gray\n",
    "\n",
    "img1 = plt.imread('../data/example_image/ISIC_0001769.jpg')\n",
    "gray = rgb2gray(img1)\n",
    "\n",
    "plt.imshow(gray, cmap='gray')"
   ]
  },
  {
   "cell_type": "code",
   "execution_count": null,
   "metadata": {},
   "outputs": [],
   "source": [
    "plt.hist(gray)"
   ]
  },
  {
   "cell_type": "code",
   "execution_count": null,
   "metadata": {},
   "outputs": [],
   "source": [
    "img2 = gray < 120\n",
    "plt.imshow(img2, cmap='gray')"
   ]
  },
  {
   "cell_type": "code",
   "execution_count": null,
   "metadata": {},
   "outputs": [],
   "source": [
    "plt.imshow(img1)"
   ]
  },
  {
   "cell_type": "code",
   "execution_count": null,
   "metadata": {},
   "outputs": [],
   "source": [
    "plt.imshow(mask)"
   ]
  },
  {
   "cell_type": "code",
   "execution_count": null,
   "metadata": {},
   "outputs": [],
   "source": [
    "img1 = im.copy() #Copy the OG img\n",
    "\n",
    "img1[mask!=0] = im[800,1600,:] #where the mask is black the image should also be black (any RGB color can be used)\n",
    "img1[mask==0] = 0\n",
    "\n",
    "plt.imshow(img1)"
   ]
  },
  {
   "cell_type": "code",
   "execution_count": null,
   "metadata": {},
   "outputs": [],
   "source": [
    "figure, axes = plt.subplots() \n",
    "cc = plt.Circle(( 0.5 , 0.5 ), 0.4, color = 'white' ) \n",
    " \n",
    "\n",
    "axes.set_facecolor('black')\n",
    "\n",
    "axes.set_aspect( 1 ) \n",
    "axes.add_artist( cc ) \n",
    "\n",
    "#plt.show()\n",
    "#plt.savefig('circle.png')\n"
   ]
  },
  {
   "cell_type": "code",
   "execution_count": null,
   "metadata": {},
   "outputs": [],
   "source": [
    "circ = plt.imread('circle.png')\n",
    "circle = circ[50:250,125:330,:]\n",
    "\n",
    "plt.imshow(circle)\n",
    "#plt.imsave('circle.png', circle)"
   ]
  },
  {
   "cell_type": "markdown",
   "metadata": {},
   "source": [
    "## Converting an image to 1 dimension (Fact check this)"
   ]
  },
  {
   "cell_type": "code",
   "execution_count": null,
   "metadata": {},
   "outputs": [],
   "source": [
    "#Converting an image to a 1 dimensional image\n",
    "\n",
    "circle = Image.open('circle.png').convert('L')\n",
    "\n",
    "circle = np.asarray(circle)\n",
    "plt.imshow(circle)\n",
    "\n",
    "print(circle.shape)"
   ]
  },
  {
   "cell_type": "code",
   "execution_count": null,
   "metadata": {},
   "outputs": [],
   "source": [
    "area, perimiter = measure_area_perimeter(circle)\n",
    "\n",
    "perimiter/area"
   ]
  },
  {
   "cell_type": "markdown",
   "metadata": {},
   "source": [
    "## Exercise 2"
   ]
  },
  {
   "cell_type": "markdown",
   "metadata": {},
   "source": [
    "### Expectations for a perfect circle\n",
    "The area will be pi*r^2 and the perimiter will be 2pi*r"
   ]
  },
  {
   "cell_type": "markdown",
   "metadata": {},
   "source": [
    "## Scatterplot"
   ]
  },
  {
   "cell_type": "code",
   "execution_count": null,
   "metadata": {},
   "outputs": [],
   "source": [
    "areas = []\n",
    "peris = []\n",
    "for i in maps:\n",
    "    area, perimiter = measure_area_perimeter(i)\n",
    "    areas.append(area)\n",
    "    peris.append(perimiter)\n"
   ]
  },
  {
   "cell_type": "code",
   "execution_count": null,
   "metadata": {},
   "outputs": [],
   "source": [
    "#np.savetxt(\"../data/features/perimeter.csv\", peris, delimiter=\",\")"
   ]
  },
  {
   "cell_type": "code",
   "execution_count": null,
   "metadata": {},
   "outputs": [],
   "source": [
    "def scatterplot(x, y):\n",
    "    # Define the size of the figure\n",
    "    fig = plt.figure(figsize=(4, 3))\n",
    "    # Set axes, that you want to work with:\n",
    "    axes = fig.add_axes([0, 0, 1, 1]) # left, bottom, width, height (range 0 to 1)\n",
    "    # actually plot the data:\n",
    "    axes.scatter(x, y, label = 'Data', edgecolors='white')\n",
    "    #axes.legend(loc='upper left'); axes.set_xlabel(data); axes.set_ylabel(data); axes.set_title('Scatter plot');\n",
    "    return None"
   ]
  },
  {
   "cell_type": "code",
   "execution_count": null,
   "metadata": {},
   "outputs": [],
   "source": [
    "scatterplot(areas, peris)"
   ]
  },
  {
   "cell_type": "code",
   "execution_count": null,
   "metadata": {},
   "outputs": [],
   "source": [
    "%run -i ../fyp2021p3_group00_functions.py"
   ]
  },
  {
   "cell_type": "code",
   "execution_count": null,
   "metadata": {},
   "outputs": [],
   "source": [
    "area, perimiter = measure_area_perimeter(mask)"
   ]
  },
  {
   "cell_type": "markdown",
   "metadata": {},
   "source": [
    "# ABC feature"
   ]
  },
  {
   "cell_type": "markdown",
   "metadata": {},
   "source": [
    "## Asymmetry"
   ]
  },
  {
   "cell_type": "markdown",
   "metadata": {},
   "source": [
    "### Finding the center\n",
    "Thanks to Gino for the idea to the code"
   ]
  },
  {
   "cell_type": "code",
   "execution_count": null,
   "metadata": {},
   "outputs": [],
   "source": [
    "image_mask = maps[1]\n",
    "\n",
    "borders = np.where(image_mask == 1) # This will return 2 arrays with the index where the pixels are ones\n",
    "up, down, left, right = max(borders[0]), min(borders[0]), min(borders[1]), max(borders[1])\n",
    "center = ((left + right)//2, (up+down) //2) # Tuple with the coordinates for the center of the lesion\n",
    "\n",
    "plt.imshow(maps[1])\n",
    "\n",
    "center"
   ]
  },
  {
   "cell_type": "code",
   "execution_count": null,
   "metadata": {},
   "outputs": [],
   "source": [
    "mask = maps[1]\n",
    "\n",
    "borders = np.where(mask == 1) # This will return 2 arrays with the index where the pixels are ones\n",
    "left, right = min(borders[1]), max(borders[1])\n",
    "centerx = (left + right)//2\n",
    "\n",
    "radiusdiff = (centerx - left) - (right - centerx)\n",
    "\n",
    "plt.imshow(maps[146])"
   ]
  },
  {
   "cell_type": "markdown",
   "metadata": {},
   "source": [
    "find the border[1] minimimum and border[1] maximum and then measurre the distance from the center to each of those points, rotate imageg X dergrees and do it again. \n",
    "Add the squared difference to a constant and then divide it by the area. \n",
    "\n"
   ]
  },
  {
   "cell_type": "code",
   "execution_count": 14,
   "metadata": {},
   "outputs": [],
   "source": [
    "areas = np.genfromtxt('../data/features/areas.csv', delimiter=',')\n",
    "perimeters = np.genfromtxt('../data/features/perimeter.csv', delimiter=',')\n",
    "asymmetry = np.genfromtxt('../data/features/assymmetry.csv', delimiter=',')"
   ]
  },
  {
   "cell_type": "code",
   "execution_count": null,
   "metadata": {},
   "outputs": [],
   "source": [
    "def assymmetry(mapID):\n",
    "    mask = maps[mapID]\n",
    "    \n",
    "    borders = np.where(mask == 1) # This will return 2 arrays with the index where the pixels are ones\n",
    "    up, down, left, right = max(borders[0]), min(borders[0]), min(borders[1]), max(borders[1])\n",
    "    center = ((left + right)//2, (up+down) //2) # Tuple with the coordinates for the center of the lesion\n",
    "    \n",
    "    difference = 0\n",
    "    \n",
    "    for i in range(18):\n",
    "        borders = np.where(mask == 1) # This will return 2 arrays with the index where the pixels are ones\n",
    "        left, right = min(borders[1]), max(borders[1])\n",
    "        \n",
    "        \n",
    "        radiusdiff = (center[0]-left) - (right-center[0])\n",
    "        difference += radiusdiff**2\n",
    "        mask = transform.rotate(mask, 10, center = center)\n",
    "    return difference/areas[mapID]\n",
    "        "
   ]
  },
  {
   "cell_type": "code",
   "execution_count": null,
   "metadata": {},
   "outputs": [],
   "source": [
    "assymmetrylist = []\n",
    "\n",
    "for i in range(150):\n",
    "    assymmetrylist.append(assymmetry(i))\n",
    "    \n",
    "#np.savetxt(\"../data/features/assymmetry.csv\", assymmetrylist, delimiter=\",\")"
   ]
  },
  {
   "cell_type": "code",
   "execution_count": 47,
   "metadata": {},
   "outputs": [
    {
     "name": "stderr",
     "output_type": "stream",
     "text": [
      "<ipython-input-47-86394776488e>:17: SettingWithCopyWarning: \n",
      "A value is trying to be set on a copy of a slice from a DataFrame\n",
      "\n",
      "See the caveats in the documentation: https://pandas.pydata.org/pandas-docs/stable/user_guide/indexing.html#returning-a-view-versus-a-copy\n",
      "  allfeatures['unhealthy'][i] = 1\n"
     ]
    },
    {
     "data": {
      "text/html": [
       "<div>\n",
       "<style scoped>\n",
       "    .dataframe tbody tr th:only-of-type {\n",
       "        vertical-align: middle;\n",
       "    }\n",
       "\n",
       "    .dataframe tbody tr th {\n",
       "        vertical-align: top;\n",
       "    }\n",
       "\n",
       "    .dataframe thead th {\n",
       "        text-align: right;\n",
       "    }\n",
       "</style>\n",
       "<table border=\"1\" class=\"dataframe\">\n",
       "  <thead>\n",
       "    <tr style=\"text-align: right;\">\n",
       "      <th></th>\n",
       "      <th>image_id</th>\n",
       "      <th>melanoma</th>\n",
       "      <th>seborrheic_keratosis</th>\n",
       "      <th>assymmetry</th>\n",
       "      <th>area</th>\n",
       "      <th>perimeter</th>\n",
       "      <th>peri/area</th>\n",
       "      <th>unhealthy</th>\n",
       "      <th>asymmetry</th>\n",
       "    </tr>\n",
       "  </thead>\n",
       "  <tbody>\n",
       "    <tr>\n",
       "      <th>0</th>\n",
       "      <td>ISIC_0001769</td>\n",
       "      <td>0</td>\n",
       "      <td>0</td>\n",
       "      <td>0.082240</td>\n",
       "      <td>216160.0</td>\n",
       "      <td>20601.0</td>\n",
       "      <td>0.095304</td>\n",
       "      <td>0</td>\n",
       "      <td>0.082240</td>\n",
       "    </tr>\n",
       "    <tr>\n",
       "      <th>1</th>\n",
       "      <td>ISIC_0001852</td>\n",
       "      <td>0</td>\n",
       "      <td>0</td>\n",
       "      <td>0.096948</td>\n",
       "      <td>130493.0</td>\n",
       "      <td>14625.0</td>\n",
       "      <td>0.112075</td>\n",
       "      <td>0</td>\n",
       "      <td>0.096948</td>\n",
       "    </tr>\n",
       "    <tr>\n",
       "      <th>2</th>\n",
       "      <td>ISIC_0001871</td>\n",
       "      <td>0</td>\n",
       "      <td>0</td>\n",
       "      <td>0.007147</td>\n",
       "      <td>205116.0</td>\n",
       "      <td>18368.0</td>\n",
       "      <td>0.089549</td>\n",
       "      <td>0</td>\n",
       "      <td>0.007147</td>\n",
       "    </tr>\n",
       "    <tr>\n",
       "      <th>3</th>\n",
       "      <td>ISIC_0003462</td>\n",
       "      <td>0</td>\n",
       "      <td>0</td>\n",
       "      <td>0.018892</td>\n",
       "      <td>161705.0</td>\n",
       "      <td>14381.0</td>\n",
       "      <td>0.088934</td>\n",
       "      <td>0</td>\n",
       "      <td>0.018892</td>\n",
       "    </tr>\n",
       "    <tr>\n",
       "      <th>4</th>\n",
       "      <td>ISIC_0003539</td>\n",
       "      <td>0</td>\n",
       "      <td>0</td>\n",
       "      <td>0.154463</td>\n",
       "      <td>317040.0</td>\n",
       "      <td>21762.0</td>\n",
       "      <td>0.068641</td>\n",
       "      <td>0</td>\n",
       "      <td>0.154463</td>\n",
       "    </tr>\n",
       "    <tr>\n",
       "      <th>...</th>\n",
       "      <td>...</td>\n",
       "      <td>...</td>\n",
       "      <td>...</td>\n",
       "      <td>...</td>\n",
       "      <td>...</td>\n",
       "      <td>...</td>\n",
       "      <td>...</td>\n",
       "      <td>...</td>\n",
       "      <td>...</td>\n",
       "    </tr>\n",
       "    <tr>\n",
       "      <th>145</th>\n",
       "      <td>ISIC_0015443</td>\n",
       "      <td>0</td>\n",
       "      <td>0</td>\n",
       "      <td>0.039940</td>\n",
       "      <td>9732988.0</td>\n",
       "      <td>135731.0</td>\n",
       "      <td>0.013945</td>\n",
       "      <td>0</td>\n",
       "      <td>0.039940</td>\n",
       "    </tr>\n",
       "    <tr>\n",
       "      <th>146</th>\n",
       "      <td>ISIC_0015445</td>\n",
       "      <td>0</td>\n",
       "      <td>0</td>\n",
       "      <td>0.682602</td>\n",
       "      <td>12049938.0</td>\n",
       "      <td>202926.0</td>\n",
       "      <td>0.016840</td>\n",
       "      <td>0</td>\n",
       "      <td>0.682602</td>\n",
       "    </tr>\n",
       "    <tr>\n",
       "      <th>147</th>\n",
       "      <td>ISIC_0015483</td>\n",
       "      <td>0</td>\n",
       "      <td>0</td>\n",
       "      <td>0.034185</td>\n",
       "      <td>8856478.0</td>\n",
       "      <td>136170.0</td>\n",
       "      <td>0.015375</td>\n",
       "      <td>0</td>\n",
       "      <td>0.034185</td>\n",
       "    </tr>\n",
       "    <tr>\n",
       "      <th>148</th>\n",
       "      <td>ISIC_0015496</td>\n",
       "      <td>0</td>\n",
       "      <td>0</td>\n",
       "      <td>0.006164</td>\n",
       "      <td>8951522.0</td>\n",
       "      <td>135296.0</td>\n",
       "      <td>0.015114</td>\n",
       "      <td>0</td>\n",
       "      <td>0.006164</td>\n",
       "    </tr>\n",
       "    <tr>\n",
       "      <th>149</th>\n",
       "      <td>ISIC_0015627</td>\n",
       "      <td>0</td>\n",
       "      <td>0</td>\n",
       "      <td>0.035712</td>\n",
       "      <td>3193093.0</td>\n",
       "      <td>85827.0</td>\n",
       "      <td>0.026879</td>\n",
       "      <td>0</td>\n",
       "      <td>0.035712</td>\n",
       "    </tr>\n",
       "  </tbody>\n",
       "</table>\n",
       "<p>150 rows × 9 columns</p>\n",
       "</div>"
      ],
      "text/plain": [
       "         image_id  melanoma  seborrheic_keratosis  assymmetry        area  \\\n",
       "0    ISIC_0001769         0                     0    0.082240    216160.0   \n",
       "1    ISIC_0001852         0                     0    0.096948    130493.0   \n",
       "2    ISIC_0001871         0                     0    0.007147    205116.0   \n",
       "3    ISIC_0003462         0                     0    0.018892    161705.0   \n",
       "4    ISIC_0003539         0                     0    0.154463    317040.0   \n",
       "..            ...       ...                   ...         ...         ...   \n",
       "145  ISIC_0015443         0                     0    0.039940   9732988.0   \n",
       "146  ISIC_0015445         0                     0    0.682602  12049938.0   \n",
       "147  ISIC_0015483         0                     0    0.034185   8856478.0   \n",
       "148  ISIC_0015496         0                     0    0.006164   8951522.0   \n",
       "149  ISIC_0015627         0                     0    0.035712   3193093.0   \n",
       "\n",
       "     perimeter  peri/area  unhealthy  asymmetry  \n",
       "0      20601.0   0.095304          0   0.082240  \n",
       "1      14625.0   0.112075          0   0.096948  \n",
       "2      18368.0   0.089549          0   0.007147  \n",
       "3      14381.0   0.088934          0   0.018892  \n",
       "4      21762.0   0.068641          0   0.154463  \n",
       "..         ...        ...        ...        ...  \n",
       "145   135731.0   0.013945          0   0.039940  \n",
       "146   202926.0   0.016840          0   0.682602  \n",
       "147   136170.0   0.015375          0   0.034185  \n",
       "148   135296.0   0.015114          0   0.006164  \n",
       "149    85827.0   0.026879          0   0.035712  \n",
       "\n",
       "[150 rows x 9 columns]"
      ]
     },
     "execution_count": 47,
     "metadata": {},
     "output_type": "execute_result"
    }
   ],
   "source": [
    "assymmetrypd = pd.DataFrame(asymmetry)\n",
    "areaspd = pd.DataFrame(areas)\n",
    "peripd = pd.DataFrame(perimeters)\n",
    "papd = pd.DataFrame(pa)\n",
    "\n",
    "true['asymmetry'] = assymmetrypd\n",
    "true['area'] = areaspd\n",
    "true['perimeter'] = peripd\n",
    "true['peri/area'] = pa\n",
    "\n",
    "allfeatures = pd.DataFrame(true)\n",
    "\n",
    "allfeatures['unhealthy'] = 0\n",
    "\n",
    "for i in range(150):\n",
    "    if allfeatures['melanoma'][i] == 1 or allfeatures['seborrheic_keratosis'][i] == 1:\n",
    "        allfeatures['unhealthy'][i] = 1\n",
    "\n",
    "\n",
    "allfeatures"
   ]
  },
  {
   "cell_type": "code",
   "execution_count": 27,
   "metadata": {},
   "outputs": [
    {
     "data": {
      "text/plain": [
       "<matplotlib.axes._subplots.AxesSubplot at 0x1bbc3fce2e0>"
      ]
     },
     "execution_count": 27,
     "metadata": {},
     "output_type": "execute_result"
    },
    {
     "data": {
      "image/png": "[encoded data removed]",
      "text/plain": [
       "<Figure size 432x288 with 1 Axes>"
      ]
     },
     "metadata": {
      "needs_background": "light"
     },
     "output_type": "display_data"
    }
   ],
   "source": [
    "# Plotting the features\n",
    "\n",
    "onlyfeatures = allfeatures[['area','perimeter', 'asymmetry', 'peri/area']]\n",
    "sns.boxplot(data=onlyfeatures, width=0.5)"
   ]
  },
  {
   "cell_type": "code",
   "execution_count": 30,
   "metadata": {},
   "outputs": [
    {
     "name": "stdout",
     "output_type": "stream",
     "text": [
      "1.924386576016938e-17\n",
      "1.0\n"
     ]
    },
    {
     "data": {
      "text/plain": [
       "<matplotlib.axes._subplots.AxesSubplot at 0x1bba38c2cd0>"
      ]
     },
     "execution_count": 30,
     "metadata": {},
     "output_type": "execute_result"
    },
    {
     "data": {
      "image/png": "[encoded data removed]",
      "text/plain": [
       "<Figure size 432x288 with 1 Axes>"
      ]
     },
     "metadata": {
      "needs_background": "light"
     },
     "output_type": "display_data"
    }
   ],
   "source": [
    "# Scaling the features\n",
    "\n",
    "#Fit scaler on our data\n",
    "scaler = preprocessing.StandardScaler().fit(onlyfeatures)\n",
    "\n",
    "#Apply to data itself\n",
    "normfeatures = scaler.transform(onlyfeatures)\n",
    "\n",
    "print(normfeatures.mean()) #small number close to 0, round of error\n",
    "print(normfeatures.var())  #equal to 1 \n",
    "sns.boxplot(data=normfeatures, width=0.5,fliersize=5) #we see both negative and positive values, since the mean is 0\n",
    "\n"
   ]
  },
  {
   "cell_type": "code",
   "execution_count": 53,
   "metadata": {},
   "outputs": [
    {
     "name": "stderr",
     "output_type": "stream",
     "text": [
      "C:\\Users\\adagi\\anaconda3\\lib\\site-packages\\seaborn\\axisgrid.py:1969: UserWarning: The `size` parameter has been renamed to `height`; please update your code.\n",
      "  warnings.warn(msg, UserWarning)\n"
     ]
    },
    {
     "data": {
      "text/plain": [
       "<seaborn.axisgrid.PairGrid at 0x1bba380be50>"
      ]
     },
     "execution_count": 53,
     "metadata": {},
     "output_type": "execute_result"
    },
    {
     "data": {
      "image/png": "[encoded data removed]",
      "text/plain": [
       "<Figure size 922.375x864 with 20 Axes>"
      ]
     },
     "metadata": {
      "needs_background": "light"
     },
     "output_type": "display_data"
    }
   ],
   "source": [
    "normfeatures = pd.DataFrame(normfeatures, columns = ['area','perimeter', 'asymmetry', 'peri/area'])\n",
    "\n",
    "# Look at values per class\n",
    "normfeatures['unhealthy'] = allfeatures['unhealthy']\n",
    "\n",
    "\n",
    "\n",
    "sns.pairplot(normfeatures, hue=\"unhealthy\", size=3,diag_kind=\"hist\")"
   ]
  },
  {
   "cell_type": "code",
   "execution_count": 71,
   "metadata": {},
   "outputs": [],
   "source": [
    "# Split the data before feature selection\n",
    "from sklearn.model_selection import train_test_split\n",
    "\n",
    "# Some noisy data not correlated\n",
    "noise = np.random.RandomState(42).uniform(0, 0.1, size=(normfeatures.shape[0], 20))\n",
    "\n",
    "# Add the noisy data to the informative features\n",
    "X = np.hstack((normfeatures[['area', 'perimeter','asymmetry', 'peri/area' ]], noise))\n",
    "y = normfeatures['unhealthy']\n",
    "\n",
    "# Split dataset to select feature and evaluate the classifier\n",
    "X_dev, X_test, y_dev, y_test = train_test_split(\n",
    "        X, y, stratify=y, random_state=0)\n",
    "\n",
    "X_train, X_val, y_train, y_val = train_test_split(\n",
    "        X_dev, y_dev, stratify=y_dev)"
   ]
  },
  {
   "cell_type": "code",
   "execution_count": null,
   "metadata": {},
   "outputs": [],
   "source": []
  },
  {
   "cell_type": "code",
   "execution_count": 142,
   "metadata": {},
   "outputs": [],
   "source": [
    "selector = SelectKBest(mutual_info_classif, k=4)\n",
    "selector.fit(X_train, y_train)\n",
    "\n",
    "scores = selector.scores_\n"
   ]
  },
  {
   "cell_type": "code",
   "execution_count": 143,
   "metadata": {},
   "outputs": [],
   "source": [
    "# Select features that had good scores on training set\n",
    "X_train1 = X_train[:, [0,3]]\n",
    "X_train2 = selector.transform(X_train)\n",
    "\n",
    "# Train a classifier\n",
    "knn1 = KNeighborsClassifier(n_neighbors=1) # other hyperparameters possible\n",
    "knn1trained = knn1.fit(X_train2, y_train)\n",
    "\n",
    "knn2 = KNeighborsClassifier(n_neighbors=3)\n",
    "knn2trained = knn2.fit(X_train2, y_train)\n",
    "\n",
    "tree1 = DecisionTreeClassifier() # various hyperparameters\n",
    "tree1trained = tree1.fit(X_train2, y_train)\n",
    "\n",
    "svm1 = svm.SVC()\n",
    "svmtrained = svm1.fit(X_train2, y_train)\n"
   ]
  },
  {
   "cell_type": "code",
   "execution_count": 144,
   "metadata": {},
   "outputs": [
    {
     "name": "stdout",
     "output_type": "stream",
     "text": [
      "57.14285714285714\n",
      "57.14285714285714\n",
      "64.28571428571429\n",
      "57.14285714285714\n"
     ]
    }
   ],
   "source": [
    "#Select the same features as before\n",
    "X_val1 = X_val[:, [0,3]]\n",
    "X_val2 = selector.transform(X_val)\n",
    "\n",
    "y_val_knn1 = knn1trained.predict(X_val2)\n",
    "y_val_knn2 = knn2trained.predict(X_val2)\n",
    "y_val_svm1 = svmtrained.predict(X_val2)\n",
    "y_val_tree = tree1trained.predict(X_val2)\n",
    "\n",
    "# Simple accuracy\n",
    "print(np.sum(y_val_knn1 == y_val) / np.size(y_val) * 100)\n",
    "print(np.sum(y_val_knn2 == y_val) / np.size(y_val) * 100)\n",
    "print(np.sum(y_val_svm1 == y_val) / np.size(y_val) * 100)\n",
    "print(np.sum(y_val_tree == y_val) / np.size(y_val) * 100)"
   ]
  },
  {
   "cell_type": "code",
   "execution_count": null,
   "metadata": {},
   "outputs": [],
   "source": [
    "sns.scatterplot('assymmetry', 'peri/area' , hue ='melanoma', data = true)"
   ]
  },
  {
   "cell_type": "code",
   "execution_count": null,
   "metadata": {},
   "outputs": [],
   "source": [
    "cancer = []\n",
    "for num, i in enumerate(assymmetrylist):\n",
    "    if i > 0.2:\n",
    "        cancer.append(num)\n",
    "        \n",
    "for i in cancer: \n",
    "    if true['melanoma'][i] == 1:\n",
    "        print(i, 'melanomia', assymmetrylist[i])\n",
    "    elif true['seborrheic_keratosis'][i] == 1:\n",
    "        print(i, 'seborrheic_keratosis', assymmetrylist[i])\n",
    "    else:\n",
    "        print(i, 'no cancer', assymmetrylist[i])"
   ]
  },
  {
   "cell_type": "markdown",
   "metadata": {},
   "source": [
    "## Border"
   ]
  },
  {
   "cell_type": "code",
   "execution_count": null,
   "metadata": {},
   "outputs": [],
   "source": [
    "#making the perimiter divided by area feature\n",
    "\n",
    "pa = []\n",
    "for i in range(150): \n",
    "    area, perimiter = measure_area_perimeter(maps[i])\n",
    "    pa.append(perimiter/area)\n",
    "    "
   ]
  },
  {
   "cell_type": "code",
   "execution_count": 16,
   "metadata": {},
   "outputs": [],
   "source": [
    "# Read in the perimiter divided by area feature file\n",
    "\n",
    "pa = np.genfromtxt('../data/features/perimeterdivarea.csv', delimiter=',')\n"
   ]
  },
  {
   "cell_type": "code",
   "execution_count": null,
   "metadata": {},
   "outputs": [],
   "source": [
    "sum(true['seborrheic_keratosis'])"
   ]
  },
  {
   "cell_type": "markdown",
   "metadata": {},
   "source": [
    "## The lower the value, the larger chance of cancer"
   ]
  },
  {
   "cell_type": "code",
   "execution_count": null,
   "metadata": {},
   "outputs": [],
   "source": [
    "cancer = []\n",
    "for num, i in enumerate(pa):\n",
    "    if i < 0.025:\n",
    "        cancer.append(num)\n",
    "        \n",
    "for i in cancer: \n",
    "    if true['melanoma'][i] == 1:\n",
    "        print(i, 'melanomia')\n",
    "    elif true['seborrheic_keratosis'][i] == 1:\n",
    "        print(i, 'seborrheic_keratosis')\n",
    "    else:\n",
    "        print(i, 'no cancer')"
   ]
  },
  {
   "cell_type": "code",
   "execution_count": null,
   "metadata": {},
   "outputs": [],
   "source": [
    "plt.imshow(maps[148])"
   ]
  },
  {
   "cell_type": "code",
   "execution_count": null,
   "metadata": {},
   "outputs": [],
   "source": [
    "sns.histplot(pa, bins = 20)"
   ]
  },
  {
   "cell_type": "code",
   "execution_count": null,
   "metadata": {},
   "outputs": [],
   "source": []
  },
  {
   "cell_type": "code",
   "execution_count": null,
   "metadata": {},
   "outputs": [],
   "source": [
    "plt.imshow(images[77])"
   ]
  },
  {
   "cell_type": "code",
   "execution_count": null,
   "metadata": {},
   "outputs": [],
   "source": [
    "ap = []\n",
    "for i in range(150): \n",
    "    area, perimiter = measure_area_perimeter(maps[i])\n",
    "    ap.append(area/perimiter)\n",
    "    \n",
    "print(ap)"
   ]
  },
  {
   "cell_type": "code",
   "execution_count": null,
   "metadata": {},
   "outputs": [],
   "source": [
    "sns.histplot(ap)"
   ]
  },
  {
   "cell_type": "markdown",
   "metadata": {},
   "source": []
  }
 ],
 "metadata": {
  "kernelspec": {
   "display_name": "Python 3",
   "language": "python",
   "name": "python3"
  },
  "language_info": {
   "codemirror_mode": {
    "name": "ipython",
    "version": 3
   },
   "file_extension": ".py",
   "mimetype": "text/x-python",
   "name": "python",
   "nbconvert_exporter": "python",
   "pygments_lexer": "ipython3",
   "version": "3.8.3"
  }
 },
 "nbformat": 4,
 "nbformat_minor": 4
}
