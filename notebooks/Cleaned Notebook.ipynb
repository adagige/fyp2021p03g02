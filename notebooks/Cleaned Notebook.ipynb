{
 "cells": [
  {
   "cell_type": "markdown",
   "metadata": {},
   "source": [
    "# Project 3\n",
    "**Group 2** \n",
    "Ada Matilde Gige (adgi@itu.dk), Albert Schiffer (albsc@itu.dk), Andreas Frederik Flensted Olsen (frao@itu.dk), Timothy Beck (tibe@itu.dk) and Victor Popp Henriksen (vhen@itu.dk)\n"
   ]
  },
  {
   "cell_type": "markdown",
   "metadata": {},
   "source": [
    "# Imports"
   ]
  },
  {
   "cell_type": "code",
   "execution_count": 2,
   "metadata": {},
   "outputs": [],
   "source": [
    "import matplotlib.pyplot as plt\n",
    "import numpy as np\n",
    "import pandas as pd\n",
    "\n",
    "from PIL import Image \n",
    "import seaborn as sns\n",
    "\n",
    "from os import walk #Used for getting all the filenames from a given directory !!!!!MAYBE NOT NECESSARY!!!!!\n",
    "import glob #For finding specific file types\n",
    "\n",
    "%run -i ../fyp2021p3_group00_functions.py"
   ]
  },
  {
   "cell_type": "markdown",
   "metadata": {},
   "source": [
    "# Loading raw datafiles"
   ]
  },
  {
   "cell_type": "code",
   "execution_count": 3,
   "metadata": {},
   "outputs": [],
   "source": [
    "#load all images of type .jpg\n",
    "im_file_list2 = glob.glob(\"../data/example_image/*.jpg\")\n",
    "#load all maps of type .png\n",
    "map_file_list2 = glob.glob(\"../data/example_segmentation/*.png\")\n",
    "\n",
    "#im_files = sorted(im_file_list2, key = uniq)\n",
    "im_files = sorted(im_file_list2)\n",
    "len(im_files)\n",
    "\n",
    "#map_files = sorted(map_file_list2, key = uniq)\n",
    "map_files = sorted(map_file_list2)\n",
    "len(map_files)         \n",
    "\n",
    "# Loading the true file in\n",
    "true = pd.read_csv('../data/example_ground_truth.csv')\n",
    "# It is already sorted why it is not sorted as the others\n",
    "\n"
   ]
  },
  {
   "cell_type": "markdown",
   "metadata": {},
   "source": [
    "## Loading the images into a list and making an ID dictionary\n",
    "Taken from: https://stackoverflow.com/questions/33369832/read-multiple-images-on-a-folder-in-opencv-python/33371454"
   ]
  },
  {
   "cell_type": "code",
   "execution_count": 4,
   "metadata": {},
   "outputs": [],
   "source": [
    "#Load in all .jpg files from the 'example_image' folder\n",
    "images = [plt.imread(file) for file in im_files]\n",
    "#Load in all .png files from the 'example_segmentation' folder\n",
    "maps = [plt.imread(file) for file in map_files]\n",
    "\n",
    "# Making a dictionary to find the id from the index\n",
    "pic_id = dict()\n",
    "\n",
    "for i in range(150):\n",
    "    pic_id[i] = true['image_id'][i]\n",
    "    "
   ]
  },
  {
   "cell_type": "markdown",
   "metadata": {},
   "source": [
    "# Changing a normal image to luminace image\n",
    "Making an image as the segmentation masks"
   ]
  },
  {
   "cell_type": "code",
   "execution_count": 8,
   "metadata": {},
   "outputs": [],
   "source": [
    "def tolum(image):\n",
    "    '''A function that takes a pictures filename, the picture must be two colored'''\n",
    "    image = Image.open(image).convert('L')\n",
    "    imagenp = np.asarray(image)\n",
    "    return image , imagenp\n",
    "    "
   ]
  },
  {
   "cell_type": "code",
   "execution_count": 12,
   "metadata": {},
   "outputs": [
    {
     "data": {
      "text/plain": [
       "<matplotlib.image.AxesImage at 0x1ae2da9dbb0>"
      ]
     },
     "execution_count": 12,
     "metadata": {},
     "output_type": "execute_result"
    },
    {
     "data": {
      "image/png": "[encoded data removed]",
      "text/plain": [
       "<Figure size 432x288 with 1 Axes>"
      ]
     },
     "metadata": {
      "needs_background": "light"
     },
     "output_type": "display_data"
    }
   ],
   "source": [
    "image , imagenp = tolum('circle.png')\n",
    "\n",
    "plt.imshow(imagenp)"
   ]
  },
  {
   "cell_type": "markdown",
   "metadata": {},
   "source": [
    "# Features"
   ]
  },
  {
   "cell_type": "markdown",
   "metadata": {},
   "source": [
    "## Asymmetry"
   ]
  },
  {
   "cell_type": "code",
   "execution_count": 5,
   "metadata": {},
   "outputs": [],
   "source": [
    "#A function that finds the center of a picture and meassures the assymmetri\n",
    "\n",
    "def assymmetry(mapID):\n",
    "    mask = maps[mapID]\n",
    "    \n",
    "    borders = np.where(mask == 1) # This will return 2 arrays with the index where the pixels are ones\n",
    "    up, down, left, right = max(borders[0]), min(borders[0]), min(borders[1]), max(borders[1])\n",
    "    center = ((left + right)//2, (up+down) //2) # Tuple with the coordinates for the center of the lesion\n",
    "    \n",
    "    difference = 0\n",
    "    \n",
    "    for i in range(18):\n",
    "        borders = np.where(mask == 1) # This will return 2 arrays with the index where the pixels are ones\n",
    "        left, right = min(borders[1]), max(borders[1])\n",
    "        \n",
    "        \n",
    "        radiusdiff = (center[0]-left) - (right-center[0])\n",
    "        difference += radiusdiff**2\n",
    "        mask = transform.rotate(mask, 10, center = center)\n",
    "    return difference/areas[mapID]\n",
    "        "
   ]
  },
  {
   "cell_type": "code",
   "execution_count": 14,
   "metadata": {},
   "outputs": [],
   "source": [
    "asymmetry = pd.read_csv(\"../data/features/assymmetry.csv\", names = ['asymmetry'])"
   ]
  },
  {
   "cell_type": "code",
   "execution_count": 15,
   "metadata": {},
   "outputs": [
    {
     "data": {
      "text/html": [
       "<div>\n",
       "<style scoped>\n",
       "    .dataframe tbody tr th:only-of-type {\n",
       "        vertical-align: middle;\n",
       "    }\n",
       "\n",
       "    .dataframe tbody tr th {\n",
       "        vertical-align: top;\n",
       "    }\n",
       "\n",
       "    .dataframe thead th {\n",
       "        text-align: right;\n",
       "    }\n",
       "</style>\n",
       "<table border=\"1\" class=\"dataframe\">\n",
       "  <thead>\n",
       "    <tr style=\"text-align: right;\">\n",
       "      <th></th>\n",
       "      <th>asymmetry</th>\n",
       "    </tr>\n",
       "  </thead>\n",
       "  <tbody>\n",
       "    <tr>\n",
       "      <th>0</th>\n",
       "      <td>0.082240</td>\n",
       "    </tr>\n",
       "    <tr>\n",
       "      <th>1</th>\n",
       "      <td>0.096948</td>\n",
       "    </tr>\n",
       "    <tr>\n",
       "      <th>2</th>\n",
       "      <td>0.007147</td>\n",
       "    </tr>\n",
       "    <tr>\n",
       "      <th>3</th>\n",
       "      <td>0.018892</td>\n",
       "    </tr>\n",
       "    <tr>\n",
       "      <th>4</th>\n",
       "      <td>0.154463</td>\n",
       "    </tr>\n",
       "    <tr>\n",
       "      <th>...</th>\n",
       "      <td>...</td>\n",
       "    </tr>\n",
       "    <tr>\n",
       "      <th>145</th>\n",
       "      <td>0.039940</td>\n",
       "    </tr>\n",
       "    <tr>\n",
       "      <th>146</th>\n",
       "      <td>0.682602</td>\n",
       "    </tr>\n",
       "    <tr>\n",
       "      <th>147</th>\n",
       "      <td>0.034185</td>\n",
       "    </tr>\n",
       "    <tr>\n",
       "      <th>148</th>\n",
       "      <td>0.006164</td>\n",
       "    </tr>\n",
       "    <tr>\n",
       "      <th>149</th>\n",
       "      <td>0.035712</td>\n",
       "    </tr>\n",
       "  </tbody>\n",
       "</table>\n",
       "<p>150 rows × 1 columns</p>\n",
       "</div>"
      ],
      "text/plain": [
       "     asymmetry\n",
       "0     0.082240\n",
       "1     0.096948\n",
       "2     0.007147\n",
       "3     0.018892\n",
       "4     0.154463\n",
       "..         ...\n",
       "145   0.039940\n",
       "146   0.682602\n",
       "147   0.034185\n",
       "148   0.006164\n",
       "149   0.035712\n",
       "\n",
       "[150 rows x 1 columns]"
      ]
     },
     "execution_count": 15,
     "metadata": {},
     "output_type": "execute_result"
    }
   ],
   "source": [
    "asymmetry"
   ]
  },
  {
   "cell_type": "code",
   "execution_count": null,
   "metadata": {},
   "outputs": [],
   "source": []
  },
  {
   "cell_type": "code",
   "execution_count": null,
   "metadata": {},
   "outputs": [],
   "source": []
  },
  {
   "cell_type": "markdown",
   "metadata": {},
   "source": [
    "## Border\n",
    "### Area and perimiter"
   ]
  },
  {
   "cell_type": "code",
   "execution_count": null,
   "metadata": {},
   "outputs": [],
   "source": [
    "# Finding the area and perimeter of all images. \n",
    "\n",
    "areas = []\n",
    "peris = []\n",
    "for i in maps:\n",
    "    area, perimiter = measure_area_perimeter(i)\n",
    "    areas.append(areas)\n",
    "    peris.append(perimiter)\n",
    "    \n",
    "# Adding them to a file, so they don't have to be calculated each time\n",
    "\n",
    "#np.savetxt(\"../data/features/perimeter.csv\", peris, delimiter=\",\")\n",
    "#np.savetxt(\"../data/features/area.csv\", areas, delimiter=\",\")"
   ]
  },
  {
   "cell_type": "code",
   "execution_count": 6,
   "metadata": {},
   "outputs": [],
   "source": [
    "areas = np.genfromtxt('../data/features/areas.csv', delimiter=',')\n",
    "perimeter = np.genfromtxt('../data/features/perimeter.csv', delimiter=',')"
   ]
  },
  {
   "cell_type": "markdown",
   "metadata": {},
   "source": [
    "### Area and perimeter scatterplot"
   ]
  },
  {
   "cell_type": "code",
   "execution_count": 27,
   "metadata": {},
   "outputs": [],
   "source": [
    "def scatterplot(area, perimeter):\n",
    "    # Define the size of the figure\n",
    "    fig = plt.figure(figsize=(4, 3))\n",
    "    # Set axes, that you want to work with:\n",
    "    axes = fig.add_axes([0, 0, 1, 1]) # left, bottom, width, height (range 0 to 1)\n",
    "    # actually plot the data:\n",
    "    axes.scatter(area, perimeter, label = 'Data', edgecolors='white')\n",
    "    axes.set_title('Area and perimeter')\n",
    "    axes.set_xlabel('Area')\n",
    "    axes.set_ylabel('Perimeter')\n",
    "    #axes.legend(loc='upper left'); axes.set_xlabel(data); axes.set_ylabel(data); axes.set_title('Scatter plot');\n",
    "    return None"
   ]
  },
  {
   "cell_type": "code",
   "execution_count": 28,
   "metadata": {},
   "outputs": [
    {
     "data": {
      "image/png": "[encoded data removed]",
      "text/plain": [
       "<Figure size 288x216 with 1 Axes>"
      ]
     },
     "metadata": {
      "needs_background": "light"
     },
     "output_type": "display_data"
    }
   ],
   "source": [
    "scatterplot(areas, perimeter)"
   ]
  },
  {
   "cell_type": "markdown",
   "metadata": {},
   "source": [
    "## Perimeter divided by area"
   ]
  },
  {
   "cell_type": "code",
   "execution_count": 32,
   "metadata": {},
   "outputs": [],
   "source": [
    "#making the perimiter divided by area feature\n",
    "\n",
    "pa = []\n",
    "for i in range(150): \n",
    "    pa.append(perimeter[i]/areas[i])\n",
    "    \n",
    "# Making a file with the perimeter divided by area feature\n",
    "#np.savetxt(\"../data/features/perimeterdivarea.csv\", areas, delimiter=\",\")\n"
   ]
  },
  {
   "cell_type": "code",
   "execution_count": 33,
   "metadata": {},
   "outputs": [],
   "source": [
    "pa = np.genfromtxt('../data/features/perimeterdivarea.csv', delimiter=',')"
   ]
  },
  {
   "cell_type": "markdown",
   "metadata": {},
   "source": [
    "### Making a histogram for the perimeter/area"
   ]
  },
  {
   "cell_type": "code",
   "execution_count": 35,
   "metadata": {},
   "outputs": [
    {
     "data": {
      "text/plain": [
       "<matplotlib.axes._subplots.AxesSubplot at 0x1ae1ffab3d0>"
      ]
     },
     "execution_count": 35,
     "metadata": {},
     "output_type": "execute_result"
    },
    {
     "data": {
      "image/png": "[encoded data removed]",
      "text/plain": [
       "<Figure size 432x288 with 1 Axes>"
      ]
     },
     "metadata": {
      "needs_background": "light"
     },
     "output_type": "display_data"
    }
   ],
   "source": [
    "sns.histplot(pa, bins = 20)"
   ]
  },
  {
   "cell_type": "markdown",
   "metadata": {},
   "source": [
    "# All features in one dataframe"
   ]
  },
  {
   "cell_type": "code",
   "execution_count": 19,
   "metadata": {},
   "outputs": [
    {
     "name": "stderr",
     "output_type": "stream",
     "text": [
      "<ipython-input-19-eebf5ef4f6d3>:5: SettingWithCopyWarning: \n",
      "A value is trying to be set on a copy of a slice from a DataFrame\n",
      "\n",
      "See the caveats in the documentation: https://pandas.pydata.org/pandas-docs/stable/user_guide/indexing.html#returning-a-view-versus-a-copy\n",
      "  true['unhealthy'][i] = 1\n"
     ]
    },
    {
     "data": {
      "text/html": [
       "<div>\n",
       "<style scoped>\n",
       "    .dataframe tbody tr th:only-of-type {\n",
       "        vertical-align: middle;\n",
       "    }\n",
       "\n",
       "    .dataframe tbody tr th {\n",
       "        vertical-align: top;\n",
       "    }\n",
       "\n",
       "    .dataframe thead th {\n",
       "        text-align: right;\n",
       "    }\n",
       "</style>\n",
       "<table border=\"1\" class=\"dataframe\">\n",
       "  <thead>\n",
       "    <tr style=\"text-align: right;\">\n",
       "      <th></th>\n",
       "      <th>image_id</th>\n",
       "      <th>melanoma</th>\n",
       "      <th>seborrheic_keratosis</th>\n",
       "      <th>unhealthy</th>\n",
       "      <th>assymmetry</th>\n",
       "      <th>area</th>\n",
       "      <th>perimeter</th>\n",
       "      <th>peri/area</th>\n",
       "    </tr>\n",
       "  </thead>\n",
       "  <tbody>\n",
       "    <tr>\n",
       "      <th>0</th>\n",
       "      <td>ISIC_0001769</td>\n",
       "      <td>0</td>\n",
       "      <td>0</td>\n",
       "      <td>0</td>\n",
       "      <td>0.082240</td>\n",
       "      <td>216160.0</td>\n",
       "      <td>20601.0</td>\n",
       "      <td>0.095304</td>\n",
       "    </tr>\n",
       "    <tr>\n",
       "      <th>1</th>\n",
       "      <td>ISIC_0001852</td>\n",
       "      <td>0</td>\n",
       "      <td>0</td>\n",
       "      <td>0</td>\n",
       "      <td>0.096948</td>\n",
       "      <td>130493.0</td>\n",
       "      <td>14625.0</td>\n",
       "      <td>0.112075</td>\n",
       "    </tr>\n",
       "    <tr>\n",
       "      <th>2</th>\n",
       "      <td>ISIC_0001871</td>\n",
       "      <td>0</td>\n",
       "      <td>0</td>\n",
       "      <td>0</td>\n",
       "      <td>0.007147</td>\n",
       "      <td>205116.0</td>\n",
       "      <td>18368.0</td>\n",
       "      <td>0.089549</td>\n",
       "    </tr>\n",
       "    <tr>\n",
       "      <th>3</th>\n",
       "      <td>ISIC_0003462</td>\n",
       "      <td>0</td>\n",
       "      <td>0</td>\n",
       "      <td>0</td>\n",
       "      <td>0.018892</td>\n",
       "      <td>161705.0</td>\n",
       "      <td>14381.0</td>\n",
       "      <td>0.088934</td>\n",
       "    </tr>\n",
       "    <tr>\n",
       "      <th>4</th>\n",
       "      <td>ISIC_0003539</td>\n",
       "      <td>0</td>\n",
       "      <td>0</td>\n",
       "      <td>0</td>\n",
       "      <td>0.154463</td>\n",
       "      <td>317040.0</td>\n",
       "      <td>21762.0</td>\n",
       "      <td>0.068641</td>\n",
       "    </tr>\n",
       "    <tr>\n",
       "      <th>...</th>\n",
       "      <td>...</td>\n",
       "      <td>...</td>\n",
       "      <td>...</td>\n",
       "      <td>...</td>\n",
       "      <td>...</td>\n",
       "      <td>...</td>\n",
       "      <td>...</td>\n",
       "      <td>...</td>\n",
       "    </tr>\n",
       "    <tr>\n",
       "      <th>145</th>\n",
       "      <td>ISIC_0015443</td>\n",
       "      <td>0</td>\n",
       "      <td>0</td>\n",
       "      <td>0</td>\n",
       "      <td>0.039940</td>\n",
       "      <td>9732988.0</td>\n",
       "      <td>135731.0</td>\n",
       "      <td>0.013945</td>\n",
       "    </tr>\n",
       "    <tr>\n",
       "      <th>146</th>\n",
       "      <td>ISIC_0015445</td>\n",
       "      <td>0</td>\n",
       "      <td>0</td>\n",
       "      <td>0</td>\n",
       "      <td>0.682602</td>\n",
       "      <td>12049938.0</td>\n",
       "      <td>202926.0</td>\n",
       "      <td>0.016840</td>\n",
       "    </tr>\n",
       "    <tr>\n",
       "      <th>147</th>\n",
       "      <td>ISIC_0015483</td>\n",
       "      <td>0</td>\n",
       "      <td>0</td>\n",
       "      <td>0</td>\n",
       "      <td>0.034185</td>\n",
       "      <td>8856478.0</td>\n",
       "      <td>136170.0</td>\n",
       "      <td>0.015375</td>\n",
       "    </tr>\n",
       "    <tr>\n",
       "      <th>148</th>\n",
       "      <td>ISIC_0015496</td>\n",
       "      <td>0</td>\n",
       "      <td>0</td>\n",
       "      <td>0</td>\n",
       "      <td>0.006164</td>\n",
       "      <td>8951522.0</td>\n",
       "      <td>135296.0</td>\n",
       "      <td>0.015114</td>\n",
       "    </tr>\n",
       "    <tr>\n",
       "      <th>149</th>\n",
       "      <td>ISIC_0015627</td>\n",
       "      <td>0</td>\n",
       "      <td>0</td>\n",
       "      <td>0</td>\n",
       "      <td>0.035712</td>\n",
       "      <td>3193093.0</td>\n",
       "      <td>85827.0</td>\n",
       "      <td>0.026879</td>\n",
       "    </tr>\n",
       "  </tbody>\n",
       "</table>\n",
       "<p>150 rows × 8 columns</p>\n",
       "</div>"
      ],
      "text/plain": [
       "         image_id  melanoma  seborrheic_keratosis  unhealthy  assymmetry  \\\n",
       "0    ISIC_0001769         0                     0          0    0.082240   \n",
       "1    ISIC_0001852         0                     0          0    0.096948   \n",
       "2    ISIC_0001871         0                     0          0    0.007147   \n",
       "3    ISIC_0003462         0                     0          0    0.018892   \n",
       "4    ISIC_0003539         0                     0          0    0.154463   \n",
       "..            ...       ...                   ...        ...         ...   \n",
       "145  ISIC_0015443         0                     0          0    0.039940   \n",
       "146  ISIC_0015445         0                     0          0    0.682602   \n",
       "147  ISIC_0015483         0                     0          0    0.034185   \n",
       "148  ISIC_0015496         0                     0          0    0.006164   \n",
       "149  ISIC_0015627         0                     0          0    0.035712   \n",
       "\n",
       "           area  perimeter  peri/area  \n",
       "0      216160.0    20601.0   0.095304  \n",
       "1      130493.0    14625.0   0.112075  \n",
       "2      205116.0    18368.0   0.089549  \n",
       "3      161705.0    14381.0   0.088934  \n",
       "4      317040.0    21762.0   0.068641  \n",
       "..          ...        ...        ...  \n",
       "145   9732988.0   135731.0   0.013945  \n",
       "146  12049938.0   202926.0   0.016840  \n",
       "147   8856478.0   136170.0   0.015375  \n",
       "148   8951522.0   135296.0   0.015114  \n",
       "149   3193093.0    85827.0   0.026879  \n",
       "\n",
       "[150 rows x 8 columns]"
      ]
     },
     "execution_count": 19,
     "metadata": {},
     "output_type": "execute_result"
    }
   ],
   "source": [
    "true['unhealthy'] = 0\n",
    "\n",
    "for i in range(150):\n",
    "    if true['melanoma'][i] == 1 or true['seborrheic_keratosis'][i] == 1:\n",
    "        true['unhealthy'][i] = 1\n",
    "\n",
    "areas = pd.read_csv(\"../data/features/areas.csv\", names = ['area'])\n",
    "perimeter = pd.read_csv(\"../data/features/perimeter.csv\", names = ['perimeter'])\n",
    "pa = pd.read_csv('../data/features/perimeterdivarea.csv', names = ['peri/area'])\n",
    "asymmetry = pd.read_csv(\"../data/features/assymmetry.csv\", names = ['asymmetry'])\n",
    "\n",
    "true['assymmetry'] = asymmetry\n",
    "true['area'] = areas\n",
    "true['perimeter'] = perimeter\n",
    "true['peri/area'] = pa\n",
    "\n",
    "allfeatures = true\n",
    "        \n",
    "allfeatures"
   ]
  },
  {
   "cell_type": "code",
   "execution_count": null,
   "metadata": {},
   "outputs": [],
   "source": []
  }
 ],
 "metadata": {
  "kernelspec": {
   "display_name": "Python 3",
   "language": "python",
   "name": "python3"
  },
  "language_info": {
   "codemirror_mode": {
    "name": "ipython",
    "version": 3
   },
   "file_extension": ".py",
   "mimetype": "text/x-python",
   "name": "python",
   "nbconvert_exporter": "python",
   "pygments_lexer": "ipython3",
   "version": "3.8.3"
  }
 },
 "nbformat": 4,
 "nbformat_minor": 4
}
